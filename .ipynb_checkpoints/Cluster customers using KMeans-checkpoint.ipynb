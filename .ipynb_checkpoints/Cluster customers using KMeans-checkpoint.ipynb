{
 "cells": [
  {
   "metadata": {
    "collapsed": true
   },
   "cell_type": "markdown",
   "source": [
    "**Programmer:** python_scripts (Abhijith Warrier)\n",
    "\n",
    "**PYTHON SCRIPT TO **_CLUSTER CUSTOMERS USING KMeans (WITH SCALING & VISUALIZATION)_**. 🐍🛍️📊**\n",
    "\n",
    "This script shows how to **segment customers** with **K-Means clustering**. We’ll create a small “mall customers”-style dataset (e.g., **Annual Income** vs **Spending Score**), scale features, fit **KMeans (k=3)**, attach cluster labels, and visualize clusters with centroids."
   ],
   "id": "7d3514b7591b0d5d"
  },
  {
   "metadata": {},
   "cell_type": "markdown",
   "source": [
    "### 📦 Imports\n",
    "\n",
    "We’ll use pandas for data, scikit-learn for scaling + KMeans, and matplotlib for plotting."
   ],
   "id": "41e306b88e2d4f24"
  },
  {
   "metadata": {},
   "cell_type": "code",
   "outputs": [],
   "execution_count": null,
   "source": [
    "# Import core libraries\n",
    "import pandas as pd\n",
    "import numpy as np\n",
    "import matplotlib.pyplot as plt\n",
    "\n",
    "# Import preprocessing and model\n",
    "from sklearn.preprocessing import StandardScaler\n",
    "from sklearn.cluster import KMeans"
   ],
   "id": "3ac215450053bd37"
  },
  {
   "metadata": {},
   "cell_type": "markdown",
   "source": [
    "### 🧮 Create a Tiny “Customers” Dataset\n",
    "\n",
    "We’ll simulate a small dataset with Annual Income (k$) and Spending Score (1–100) to keep things simple and visual."
   ],
   "id": "73e00cf46c2d6e44"
  },
  {
   "metadata": {},
   "cell_type": "code",
   "outputs": [],
   "execution_count": null,
   "source": [
    "# Create a small demo dataset (replace with your real data)\n",
    "data = {\n",
    "    \"CustomerID\": range(1, 21),\n",
    "    \"AnnualIncome_k$\": [15, 16, 17, 18, 20, 22, 25, 28, 30, 33, 60, 62, 65, 68, 70, 72, 75, 78, 80, 85],\n",
    "    \"SpendingScore\":   [18, 20, 22, 25, 28, 30, 35, 40, 42, 45, 55, 58, 60, 62, 65, 66, 68, 70, 72, 75],\n",
    "}\n",
    "df = pd.DataFrame(data)\n",
    "\n",
    "# Peek at the data\n",
    "df.head()"
   ],
   "id": "1f3ca3804ba80f1b"
  },
  {
   "metadata": {},
   "cell_type": "markdown",
   "source": [
    "### 🧰 Select Features & Standardize\n",
    "\n",
    "Clustering uses distance, so scaling features to similar ranges is important."
   ],
   "id": "4a0304553d4cdfeb"
  },
  {
   "metadata": {},
   "cell_type": "code",
   "outputs": [],
   "execution_count": null,
   "source": [
    "# Choose features for clustering\n",
    "features = [\"AnnualIncome_k$\", \"SpendingScore\"]\n",
    "X = df[features].values\n",
    "\n",
    "# Standardize features (mean=0, std=1) to make distances comparable\n",
    "scaler = StandardScaler()\n",
    "X_scaled = scaler.fit_transform(X)"
   ],
   "id": "11b0172ccb434afa"
  },
  {
   "metadata": {},
   "cell_type": "markdown",
   "source": [
    "### 🤖 Fit K-Means (k=3) & Assign Cluster Labels\n",
    "\n",
    "We’ll start with k=3 clusters (you can tune k later via the elbow method)."
   ],
   "id": "30368ca870a930c1"
  },
  {
   "metadata": {},
   "cell_type": "code",
   "outputs": [],
   "execution_count": null,
   "source": [
    "# Initialize KMeans: set k=3, use a fixed random_state for reproducibility\n",
    "kmeans = KMeans(n_clusters=3, n_init=10, random_state=42)\n",
    "\n",
    "# Fit on scaled data and predict cluster labels\n",
    "labels = kmeans.fit_predict(X_scaled)\n",
    "\n",
    "# Attach labels back to the original DataFrame\n",
    "df[\"Cluster\"] = labels\n",
    "\n",
    "# Quick look at cluster counts\n",
    "df[\"Cluster\"].value_counts().sort_index()"
   ],
   "id": "af77a4c64fae4691"
  },
  {
   "metadata": {},
   "cell_type": "markdown",
   "source": [
    "### 📍 Inspect Cluster Centroids (Back in Original Units)\n",
    "\n",
    "Cluster centers are in scaled space; let’s invert them to original units for interpretation."
   ],
   "id": "3f3340fb8a333b68"
  },
  {
   "metadata": {},
   "cell_type": "code",
   "outputs": [],
   "execution_count": null,
   "source": [
    "# Inverse-transform centroids to original feature scale\n",
    "centroids_scaled = kmeans.cluster_centers_              # (k, n_features) in scaled space\n",
    "centroids_orig = scaler.inverse_transform(centroids_scaled)\n",
    "\n",
    "# Put into a neat DataFrame\n",
    "centers_df = pd.DataFrame(centroids_orig, columns=features)\n",
    "centers_df.index.name = \"Cluster\"\n",
    "centers_df"
   ],
   "id": "31646d959e5b052d"
  },
  {
   "metadata": {},
   "cell_type": "markdown",
   "source": [
    "### 📈 Visualize Clusters & Centroids (2D Scatter)\n",
    "\n",
    "Plot Annual Income vs Spending Score, color by cluster, and mark centroids."
   ],
   "id": "cce23600902c2f26"
  },
  {
   "metadata": {},
   "cell_type": "code",
   "outputs": [],
   "execution_count": null,
   "source": [
    "# Create a color map for up to 3 clusters\n",
    "colors = np.array([\"#1f77b4\", \"#ff7f0e\", \"#2ca02c\"])  # blue, orange, green\n",
    "\n",
    "plt.figure(figsize=(7, 5))\n",
    "\n",
    "# Scatter plot of customers colored by cluster\n",
    "plt.scatter(\n",
    "    df[\"AnnualIncome_k$\"], df[\"SpendingScore\"],\n",
    "    c=colors[df[\"Cluster\"].values], s=60, edgecolor=\"white\", linewidth=0.8, alpha=0.9\n",
    ")\n",
    "\n",
    "# Plot centroids (bigger, with black edge)\n",
    "plt.scatter(\n",
    "    centers_df[\"AnnualIncome_k$\"], centers_df[\"SpendingScore\"],\n",
    "    c=\"red\", s=180, marker=\"X\", edgecolor=\"black\", linewidth=1.2, label=\"Centroids\"\n",
    ")\n",
    "\n",
    "plt.title(\"Customer Segments via K-Means (k=3)\")\n",
    "plt.xlabel(\"Annual Income (k$)\")\n",
    "plt.ylabel(\"Spending Score (1–100)\")\n",
    "plt.legend()\n",
    "plt.tight_layout()\n",
    "plt.show()"
   ],
   "id": "49951b8767376eba"
  },
  {
   "metadata": {},
   "cell_type": "markdown",
   "source": [
    "### 📝 Notes & Tips\n",
    "- Why scale? K-Means minimizes Euclidean distance; unscaled features can dominate the distance.\n",
    "- Choosing k: Use the Elbow method (plot inertia vs k) or Silhouette score to pick a good k.\n",
    "- Initialization: n_init=10 runs K-Means with 10 different initial seeds and picks the best (safer results).\n",
    "- Real datasets: Replace the synthetic df with your actual customer table; just set features accordingly."
   ],
   "id": "af5b4999ddda219"
  },
  {
   "metadata": {},
   "cell_type": "code",
   "outputs": [],
   "execution_count": null,
   "source": "",
   "id": "80d0a03b94817c2"
  }
 ],
 "metadata": {
  "kernelspec": {
   "display_name": "Python 3",
   "language": "python",
   "name": "python3"
  },
  "language_info": {
   "codemirror_mode": {
    "name": "ipython",
    "version": 2
   },
   "file_extension": ".py",
   "mimetype": "text/x-python",
   "name": "python",
   "nbconvert_exporter": "python",
   "pygments_lexer": "ipython2",
   "version": "2.7.6"
  }
 },
 "nbformat": 4,
 "nbformat_minor": 5
}
