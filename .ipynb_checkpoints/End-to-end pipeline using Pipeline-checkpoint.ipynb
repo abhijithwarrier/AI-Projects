{
 "cells": [
  {
   "metadata": {
    "collapsed": true
   },
   "cell_type": "markdown",
   "source": [
    "**Programmer:** python_scripts (Abhijith Warrier)\n",
    "\n",
    "**PYTHON SCRIPT TO **_BUILD AN END-TO-END ML PIPELINE WITH PREPROCESSING + MODEL USING sklearn.pipeline.Pipeline._**. 🐍⚙️🤖**\n",
    "\n",
    "This script shows how to bundle **feature scaling** and a **classifier** into one reusable workflow using scikit-learn’s Pipeline. We’ll split data, create a pipeline (**StandardScaler → LogisticRegression**), train, and evaluate — all in a few clean lines."
   ],
   "id": "199221632fdda288"
  },
  {
   "metadata": {},
   "cell_type": "markdown",
   "source": [
    "### 📦 Import Required Libraries\n",
    "\n",
    "We’ll use the Iris dataset, split utilities, preprocessing, model, and metrics."
   ],
   "id": "c8a4c551a3d03b8c"
  },
  {
   "metadata": {},
   "cell_type": "code",
   "outputs": [],
   "execution_count": null,
   "source": [
    "# Data & utilities\n",
    "from sklearn.datasets import load_iris\n",
    "from sklearn.model_selection import train_test_split\n",
    "\n",
    "# Preprocessing & model\n",
    "from sklearn.preprocessing import StandardScaler\n",
    "from sklearn.linear_model import LogisticRegression\n",
    "\n",
    "# Pipeline & metrics\n",
    "from sklearn.pipeline import Pipeline\n",
    "from sklearn.metrics import accuracy_score, classification_report"
   ],
   "id": "ea30b33b761c221c"
  },
  {
   "metadata": {},
   "cell_type": "markdown",
   "source": [
    "### 📥 Load Dataset & Create Train/Test Split\n",
    "\n",
    "Keep a held-out test set to estimate generalization."
   ],
   "id": "185e783c2037a842"
  },
  {
   "metadata": {},
   "cell_type": "code",
   "outputs": [],
   "execution_count": null,
   "source": [
    "# Load the Iris dataset (4 features, 3 classes)\n",
    "iris = load_iris()\n",
    "X, y = iris.data, iris.target\n",
    "\n",
    "# Train/test split (stratified for balanced classes)\n",
    "X_train, X_test, y_train, y_test = train_test_split(\n",
    "    X, y, test_size=0.25, random_state=42, stratify=y\n",
    ")"
   ],
   "id": "190485b2bb2dcbc4"
  },
  {
   "metadata": {},
   "cell_type": "markdown",
   "source": [
    "### 🧱 Build the End-to-End Pipeline\n",
    "\n",
    "Chain StandardScaler (feature scaling) → LogisticRegression (classifier)."
   ],
   "id": "435f48499af5ed1a"
  },
  {
   "metadata": {},
   "cell_type": "code",
   "outputs": [],
   "execution_count": null,
   "source": [
    "# Define a two-step pipeline: scale features, then fit classifier\n",
    "clf = Pipeline(steps=[\n",
    "    (\"scaler\", StandardScaler()),            # step 1: standardize features\n",
    "    (\"logreg\", LogisticRegression(max_iter=200, n_jobs=None, random_state=42))  # step 2: classifier\n",
    "])"
   ],
   "id": "bace40cd0db9ec31"
  },
  {
   "metadata": {},
   "cell_type": "markdown",
   "source": [
    "### 🚀 Train the Pipeline\n",
    "\n",
    "fit() runs all steps in order: fit scaler on train → transform → fit model."
   ],
   "id": "a85d03cb5c53f91b"
  },
  {
   "metadata": {},
   "cell_type": "code",
   "outputs": [],
   "execution_count": null,
   "source": [
    "# Train the full pipeline on the training set\n",
    "clf.fit(X_train, y_train)"
   ],
   "id": "7668922e44337a9c"
  },
  {
   "metadata": {},
   "cell_type": "markdown",
   "source": [
    "### 🔮 Predict & Evaluate\n",
    "\n",
    "Use the same pipeline to transform test data and predict in one call."
   ],
   "id": "a66f5030a49eca0a"
  },
  {
   "metadata": {},
   "cell_type": "code",
   "outputs": [],
   "execution_count": null,
   "source": [
    "# Predict on test data (transforms + predict happen inside)\n",
    "y_pred = clf.predict(X_test)\n",
    "\n",
    "# Evaluate results\n",
    "acc = accuracy_score(y_test, y_pred)\n",
    "print(f\"Test Accuracy: {acc:.4f}\\n\")\n",
    "print(\"Classification Report:\\n\", classification_report(y_test, y_pred, target_names=iris.target_names))"
   ],
   "id": "dd0130ade634fa30"
  },
  {
   "metadata": {},
   "cell_type": "markdown",
   "source": [
    "### ✅ (Optional) Access a Step or its Coefficients\n",
    "\n",
    "Steps are accessible by name (e.g., \"logreg\")."
   ],
   "id": "68db38db2535cd8c"
  },
  {
   "metadata": {},
   "cell_type": "code",
   "outputs": [],
   "execution_count": null,
   "source": [
    "# Access the logistic regression step and inspect learned coefficients\n",
    "lr = clf.named_steps[\"logreg\"]\n",
    "print(\"Model classes:\", lr.classes_)\n",
    "print(\"Coef shape:\", lr.coef_.shape)  # (n_classes, n_features)"
   ],
   "id": "5923a1b362fcffdb"
  }
 ],
 "metadata": {
  "kernelspec": {
   "display_name": "Python 3",
   "language": "python",
   "name": "python3"
  },
  "language_info": {
   "codemirror_mode": {
    "name": "ipython",
    "version": 2
   },
   "file_extension": ".py",
   "mimetype": "text/x-python",
   "name": "python",
   "nbconvert_exporter": "python",
   "pygments_lexer": "ipython2",
   "version": "2.7.6"
  }
 },
 "nbformat": 4,
 "nbformat_minor": 5
}
