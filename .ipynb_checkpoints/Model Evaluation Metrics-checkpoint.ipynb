{
 "cells": [
  {
   "metadata": {
    "collapsed": true
   },
   "cell_type": "markdown",
   "source": [
    "**Programmer:** python_scripts (Abhijith Warrier)\n",
    "\n",
    "**PYTHON SCRIPT TO **_COMPUTE PRECISION, RECALL, AND F1-SCORE USING `sklearn.metrics`_**. 🐍📊🤖**\n",
    "\n",
    "This script demonstrates how to evaluate classification model performance using **Precision, Recall, and F1-score** — three essential metrics for understanding predictive accuracy beyond raw accuracy."
   ],
   "id": "a262235555ab3452"
  },
  {
   "metadata": {},
   "cell_type": "markdown",
   "source": [
    "### 📦 Import Required Libraries\n",
    "\n",
    "We’ll use LogisticRegression for classification and `precision_score`, `recall_score`, and `f1_score` from `scikit-learn` for evaluation."
   ],
   "id": "20a4937f2eb63171"
  },
  {
   "metadata": {},
   "cell_type": "code",
   "outputs": [],
   "execution_count": null,
   "source": [
    "# Import libraries\n",
    "from sklearn.datasets import load_iris\n",
    "from sklearn.model_selection import train_test_split\n",
    "from sklearn.linear_model import LogisticRegression\n",
    "from sklearn.metrics import precision_score, recall_score, f1_score, classification_report"
   ],
   "id": "bc9b2499bc6d7d64"
  },
  {
   "metadata": {},
   "cell_type": "markdown",
   "source": [
    "### 🧩 Load Dataset and Split into Train/Test Sets\n",
    "\n",
    "We’ll use the classic Iris dataset, focusing only on two classes for simplicity."
   ],
   "id": "2fd975e4fe7a9241"
  },
  {
   "metadata": {},
   "cell_type": "code",
   "outputs": [],
   "execution_count": null,
   "source": [
    "# Load dataset\n",
    "iris = load_iris()\n",
    "X, y = iris.data, iris.target\n",
    "\n",
    "# Use only two classes (binary classification)\n",
    "X, y = X[y != 2], y[y != 2]\n",
    "\n",
    "# Split into training and testing sets\n",
    "X_train, X_test, y_train, y_test = train_test_split(X, y, test_size=0.3, random_state=42)"
   ],
   "id": "e69bf2f0f8389cc3"
  },
  {
   "metadata": {},
   "cell_type": "markdown",
   "source": [
    "### 🤖 Train a Logistic Regression Model\n",
    "\n",
    "We’ll train a simple binary classifier on the filtered Iris dataset."
   ],
   "id": "93e1c2798ab10153"
  },
  {
   "metadata": {},
   "cell_type": "code",
   "outputs": [],
   "execution_count": null,
   "source": [
    "# Train the model\n",
    "model = LogisticRegression()\n",
    "model.fit(X_train, y_train)"
   ],
   "id": "fedbdad1521265c5"
  },
  {
   "metadata": {},
   "cell_type": "markdown",
   "source": [
    "### 📊 Make Predictions and Evaluate Metrics\n",
    "\n",
    "We’ll compute Precision, Recall, and F1-score individually, as well as generate a full classification report."
   ],
   "id": "cbfeada39e91a79b"
  },
  {
   "metadata": {},
   "cell_type": "code",
   "outputs": [],
   "execution_count": null,
   "source": [
    "# Make predictions\n",
    "y_pred = model.predict(X_test)\n",
    "\n",
    "# Calculate metrics\n",
    "precision = precision_score(y_test, y_pred)\n",
    "recall = recall_score(y_test, y_pred)\n",
    "f1 = f1_score(y_test, y_pred)\n",
    "\n",
    "print(f\"Precision: {precision:.2f}\")\n",
    "print(f\"Recall: {recall:.2f}\")\n",
    "print(f\"F1-Score: {f1:.2f}\")\n",
    "\n",
    "# Complete classification report\n",
    "print(\"\\nClassification Report:\\n\")\n",
    "print(classification_report(y_test, y_pred))"
   ],
   "id": "61590d40f4279705"
  },
  {
   "metadata": {},
   "cell_type": "markdown",
   "source": [
    "### 🧠 Understanding the Metrics\n",
    "- Precision → Out of all predicted positives, how many are actually positive.\n",
    "- Recall → Out of all actual positives, how many were correctly predicted.\n",
    "- F1-Score → Harmonic mean of Precision and Recall, balancing both metrics.\n",
    "\n",
    "Use these metrics especially when your dataset is imbalanced or when false positives/negatives carry different costs."
   ],
   "id": "44ded17746b90654"
  },
  {
   "metadata": {},
   "cell_type": "markdown",
   "source": "",
   "id": "22c0fd8959223224"
  }
 ],
 "metadata": {
  "kernelspec": {
   "display_name": "Python 3",
   "language": "python",
   "name": "python3"
  },
  "language_info": {
   "codemirror_mode": {
    "name": "ipython",
    "version": 2
   },
   "file_extension": ".py",
   "mimetype": "text/x-python",
   "name": "python",
   "nbconvert_exporter": "python",
   "pygments_lexer": "ipython2",
   "version": "2.7.6"
  }
 },
 "nbformat": 4,
 "nbformat_minor": 5
}
