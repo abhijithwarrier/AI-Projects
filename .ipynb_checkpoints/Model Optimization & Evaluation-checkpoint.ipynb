{
 "cells": [
  {
   "metadata": {
    "collapsed": true
   },
   "cell_type": "markdown",
   "source": [
    "**Programmer:** python_scripts (Abhijith Warrier)\n",
    "\n",
    "**PYTHON SCRIPT TO **_PLOT LEARNING CURVES TO DETECT UNDERFITTING & OVERFITTING_**. 🐍📈🤖**\n",
    "\n",
    "This script demonstrates how **learning curves** help you visualize whether a model is **underfitting, overfitting, or just right**.\n",
    "By tracking training and validation scores as the dataset size increases, you can assess if your model generalizes well."
   ],
   "id": "4ad46a0bb85ec9ba"
  },
  {
   "metadata": {},
   "cell_type": "markdown",
   "source": [
    "### 📦 Import Required Libraries\n",
    "\n",
    "We’ll use scikit-learn’s learning_curve utility and matplotlib for visualization."
   ],
   "id": "b4f8847991f3b7b5"
  },
  {
   "metadata": {},
   "cell_type": "code",
   "outputs": [],
   "execution_count": null,
   "source": [
    "# Import necessary libraries\n",
    "import numpy as np\n",
    "import matplotlib.pyplot as plt\n",
    "from sklearn.model_selection import learning_curve\n",
    "from sklearn.linear_model import LogisticRegression\n",
    "from sklearn.datasets import load_iris"
   ],
   "id": "90bc513ee1e1f08f"
  },
  {
   "metadata": {},
   "cell_type": "markdown",
   "source": [
    "### 🧩 Load Dataset and Initialize Model\n",
    "\n",
    "We’ll use the Iris dataset and a Logistic Regression model for simplicity."
   ],
   "id": "8f1568f155bcc4fd"
  },
  {
   "metadata": {},
   "cell_type": "code",
   "outputs": [],
   "execution_count": null,
   "source": [
    "# Load the Iris dataset\n",
    "data = load_iris()\n",
    "X, y = data.data, data.target\n",
    "\n",
    "# Initialize the model\n",
    "model = LogisticRegression(max_iter=200)"
   ],
   "id": "c742090a423402b1"
  },
  {
   "metadata": {},
   "cell_type": "markdown",
   "source": [
    "### 📊 Generate Learning Curve Data\n",
    "\n",
    "The learning_curve function computes training and validation scores for increasing training set sizes."
   ],
   "id": "aeb13fb47163123d"
  },
  {
   "metadata": {},
   "cell_type": "code",
   "outputs": [],
   "execution_count": null,
   "source": [
    "train_sizes, train_scores, test_scores = learning_curve(\n",
    "    model, X, y, cv=5, scoring='accuracy',\n",
    "    train_sizes=np.linspace(0.1, 1.0, 10), random_state=42\n",
    ")"
   ],
   "id": "b241d758ee9cdf70"
  },
  {
   "metadata": {},
   "cell_type": "markdown",
   "source": [
    "### 📈 Compute Mean and Standard Deviation\n",
    "\n",
    "We’ll average results across cross-validation folds for smoother curves."
   ],
   "id": "60e24b2c9b463e9"
  },
  {
   "metadata": {},
   "cell_type": "code",
   "outputs": [],
   "execution_count": null,
   "source": [
    "train_mean = np.mean(train_scores, axis=1)\n",
    "train_std = np.std(train_scores, axis=1)\n",
    "test_mean = np.mean(test_scores, axis=1)\n",
    "test_std = np.std(test_scores, axis=1)"
   ],
   "id": "7f37c6e7f4e451b8"
  },
  {
   "metadata": {},
   "cell_type": "markdown",
   "source": [
    "### 🎨 Plot the Learning Curves\n",
    "\n",
    "We visualize how the training and validation accuracy evolve with increasing data."
   ],
   "id": "38638ce5e350c453"
  },
  {
   "metadata": {},
   "cell_type": "code",
   "outputs": [],
   "execution_count": null,
   "source": [
    "plt.figure(figsize=(8, 6))\n",
    "plt.plot(train_sizes, train_mean, 'o-', color='teal', label='Training score')\n",
    "plt.plot(train_sizes, test_mean, 'o-', color='orange', label='Cross-validation score')\n",
    "\n",
    "# Add shading for standard deviation\n",
    "plt.fill_between(train_sizes, train_mean - train_std, train_mean + train_std, color='teal', alpha=0.2)\n",
    "plt.fill_between(train_sizes, test_mean - test_std, test_mean + test_std, color='orange', alpha=0.2)\n",
    "\n",
    "plt.title('Learning Curves (Logistic Regression)')\n",
    "plt.xlabel('Training Set Size')\n",
    "plt.ylabel('Accuracy Score')\n",
    "plt.legend(loc='best')\n",
    "plt.grid(True)\n",
    "plt.imsave(\"/Users/abhijith/Downloads/AIwP-MOE-Output.png\")\n",
    "plt.show()"
   ],
   "id": "fb04b6b5d56353d1"
  },
  {
   "metadata": {},
   "cell_type": "markdown",
   "source": [
    "### 🧠 Interpretation\n",
    "- If both curves converge at low accuracy → Underfitting (model too simple).\n",
    "- If there’s a wide gap between curves → Overfitting (model too complex).\n",
    "- If both converge at high accuracy → Good Fit (balanced model)."
   ],
   "id": "41b73d873229a97b"
  }
 ],
 "metadata": {
  "kernelspec": {
   "display_name": "Python 3",
   "language": "python",
   "name": "python3"
  },
  "language_info": {
   "codemirror_mode": {
    "name": "ipython",
    "version": 2
   },
   "file_extension": ".py",
   "mimetype": "text/x-python",
   "name": "python",
   "nbconvert_exporter": "python",
   "pygments_lexer": "ipython2",
   "version": "2.7.6"
  }
 },
 "nbformat": 4,
 "nbformat_minor": 5
}
