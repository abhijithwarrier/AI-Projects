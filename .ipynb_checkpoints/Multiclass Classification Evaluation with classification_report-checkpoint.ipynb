{
 "cells": [
  {
   "metadata": {
    "collapsed": true
   },
   "cell_type": "markdown",
   "source": [
    "**Programmer:** python_scripts (Abhijith Warrier)\n",
    "\n",
    "**PYTHON SCRIPT TO **_EVALUATE MULTICLASS CLASSIFIERS USING `classification_report` FROM `sklearn.metrics`_**. 🐍📊🤖**\n",
    "\n",
    "This script demonstrates how to compute key evaluation metrics (Precision, Recall, F1-score, and Support) for multiclass classification problems — all summarized in a single, readable report."
   ],
   "id": "18b8fee8a420e503"
  },
  {
   "metadata": {},
   "cell_type": "markdown",
   "source": [
    "### 📦 Import Required Libraries\n",
    "\n",
    "We’ll use the **Iris dataset** and a **Logistic Regression** model for multiclass prediction."
   ],
   "id": "d63e88847ccc9e17"
  },
  {
   "metadata": {},
   "cell_type": "code",
   "outputs": [],
   "execution_count": null,
   "source": [
    "# Import required libraries\n",
    "from sklearn.datasets import load_iris\n",
    "from sklearn.model_selection import train_test_split\n",
    "from sklearn.linear_model import LogisticRegression\n",
    "from sklearn.metrics import classification_report"
   ],
   "id": "41ceada91ee212c4"
  },
  {
   "metadata": {},
   "cell_type": "markdown",
   "source": [
    "### 🧩 Load Dataset and Split Data\n",
    "\n",
    "We’ll use the complete Iris dataset, which contains three distinct flower classes — perfect for multiclass evaluation."
   ],
   "id": "fd060cd79e8067dc"
  },
  {
   "metadata": {},
   "cell_type": "code",
   "outputs": [],
   "execution_count": null,
   "source": [
    "# Load the dataset\n",
    "iris = load_iris()\n",
    "X, y = iris.data, iris.target\n",
    "\n",
    "# Split into training and testing sets\n",
    "X_train, X_test, y_train, y_test = train_test_split(\n",
    "    X, y, test_size=0.3, random_state=42\n",
    ")"
   ],
   "id": "d165666bfa4d1884"
  },
  {
   "metadata": {},
   "cell_type": "markdown",
   "source": [
    "### 🤖 Train a Multiclass Classifier\n",
    "\n",
    "Scikit-learn’s LogisticRegression supports multiclass classification by default using the **One-vs-Rest (OvR)** strategy."
   ],
   "id": "68242627024ff925"
  },
  {
   "metadata": {},
   "cell_type": "code",
   "outputs": [],
   "execution_count": null,
   "source": [
    "# Train the model\n",
    "model = LogisticRegression(max_iter=200)\n",
    "model.fit(X_train, y_train)"
   ],
   "id": "1c48f8ea7bd7ef58"
  },
  {
   "metadata": {},
   "cell_type": "markdown",
   "source": [
    "### 📊 Generate Predictions and Classification Report\n",
    "\n",
    "We’ll use `classification_report()` to display per-class Precision, Recall, F1-Score, and Support in a single view."
   ],
   "id": "98b557fcf90807ce"
  },
  {
   "metadata": {},
   "cell_type": "code",
   "outputs": [],
   "execution_count": null,
   "source": [
    "# Make predictions\n",
    "y_pred = model.predict(X_test)\n",
    "\n",
    "# Generate the classification report\n",
    "report = classification_report(y_test, y_pred, target_names=iris.target_names)\n",
    "print(\"Classification Report:\\n\")\n",
    "print(report)"
   ],
   "id": "e1a39a47dc0c15f2"
  },
  {
   "metadata": {},
   "cell_type": "markdown",
   "source": [
    "### 🧠 Understanding the Output\n",
    "\n",
    "The classification report includes:\n",
    "- Precision: How many predicted class instances are correct.\n",
    "- Recall: How many actual instances were correctly identified.\n",
    "- F1-Score: Harmonic mean of Precision and Recall.\n",
    "- Support: Number of true samples for each class.\n",
    "\n",
    "This provides a comprehensive view of how well your model performs across all classes — not just an overall average."
   ],
   "id": "df1e5a1199f605e0"
  },
  {
   "metadata": {},
   "cell_type": "markdown",
   "source": "",
   "id": "b49a580c1113a653"
  }
 ],
 "metadata": {
  "kernelspec": {
   "display_name": "Python 3",
   "language": "python",
   "name": "python3"
  },
  "language_info": {
   "codemirror_mode": {
    "name": "ipython",
    "version": 2
   },
   "file_extension": ".py",
   "mimetype": "text/x-python",
   "name": "python",
   "nbconvert_exporter": "python",
   "pygments_lexer": "ipython2",
   "version": "2.7.6"
  }
 },
 "nbformat": 4,
 "nbformat_minor": 5
}
