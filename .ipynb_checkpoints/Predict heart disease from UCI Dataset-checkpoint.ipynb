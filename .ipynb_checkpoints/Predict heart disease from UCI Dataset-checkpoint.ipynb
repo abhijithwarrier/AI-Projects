{
 "cells": [
  {
   "metadata": {
    "collapsed": true
   },
   "cell_type": "markdown",
   "source": [
    "**Programmer:** python_scripts (Abhijith Warrier)\n",
    "\n",
    "**PYTHON SCRIPT TO *PREDICT HEART DISEASE USING LOGISTIC REGRESSION ON THE UCI HEART DATASET*. 🐍❤️🩺🤖**\n",
    "\n",
    "This script demonstrates a complete ML pipeline — loading the **UCI Heart dataset, preprocessing features, training a model, and evaluating** it using **_accuracy and confusion matrix_**."
   ],
   "id": "3fc19ffc35f3c141"
  },
  {
   "metadata": {},
   "cell_type": "markdown",
   "source": [
    "### **🧩 Import Required Libraries**\n",
    "\n",
    "We’ll use pandas and scikit-learn for data handling, preprocessing, and model building."
   ],
   "id": "158428538e72dd55"
  },
  {
   "metadata": {},
   "cell_type": "code",
   "outputs": [],
   "execution_count": null,
   "source": [
    "import pandas as pd\n",
    "import numpy as np\n",
    "from sklearn.model_selection import train_test_split\n",
    "from sklearn.preprocessing import StandardScaler\n",
    "from sklearn.linear_model import LogisticRegression\n",
    "from sklearn.metrics import accuracy_score, confusion_matrix, ConfusionMatrixDisplay\n",
    "import matplotlib.pyplot as plt"
   ],
   "id": "3749d049c8f74bf6"
  },
  {
   "metadata": {},
   "cell_type": "markdown",
   "source": [
    "### **📥 Load the UCI Heart Disease Dataset**\n",
    "\n",
    "We’ll use the popular dataset available from the UCI Repository (via a public CSV).\n",
    "\n",
    "If you already have a local copy, update the path accordingly."
   ],
   "id": "b6f6ed1a2a8e8f9a"
  },
  {
   "metadata": {},
   "cell_type": "code",
   "outputs": [],
   "execution_count": null,
   "source": [
    "url = \"https://raw.githubusercontent.com/plotly/datasets/master/heart.csv\"\n",
    "df = pd.read_csv(url)\n",
    "df.head()"
   ],
   "id": "924cd08b416be6bf"
  },
  {
   "metadata": {},
   "cell_type": "markdown",
   "source": [
    "### **🩺 Dataset Overview**\n",
    "\n",
    "The dataset contains several medical attributes —\n",
    "\n",
    "- age, sex, cp (chest pain type), trestbps (resting blood pressure),\n",
    "- chol (cholesterol), thalach (max heart rate), oldpeak (ST depression), and others.\n",
    "\n",
    "The target variable is target —\n",
    "\n",
    "- 1 → Heart disease present\n",
    "- 0 → No heart disease"
   ],
   "id": "8dc46479bc576308"
  },
  {
   "metadata": {},
   "cell_type": "code",
   "outputs": [],
   "execution_count": null,
   "source": [
    "df.info()\n",
    "df['target'].value_counts()"
   ],
   "id": "5d54c874b7afa23a"
  },
  {
   "metadata": {},
   "cell_type": "markdown",
   "source": [
    "### **⚙️ Feature Scaling and Train/Test Split**\n",
    "\n",
    "We’ll standardize numeric features using StandardScaler for better model convergence."
   ],
   "id": "71f6a183dbc4a65d"
  },
  {
   "metadata": {},
   "cell_type": "code",
   "outputs": [],
   "execution_count": null,
   "source": [
    "X = df.drop(columns=['target'])\n",
    "y = df['target']\n",
    "\n",
    "X_train, X_test, y_train, y_test = train_test_split(X, y, test_size=0.2, random_state=42, stratify=y)\n",
    "\n",
    "scaler = StandardScaler()\n",
    "X_train_scaled = scaler.fit_transform(X_train)\n",
    "X_test_scaled = scaler.transform(X_test)"
   ],
   "id": "a7ad53e41d90e7e2"
  },
  {
   "metadata": {},
   "cell_type": "markdown",
   "source": [
    "### **🤖 Train Logistic Regression Model**\n",
    "\n",
    "A simple, effective baseline for binary classification problems."
   ],
   "id": "21ef48624361286f"
  },
  {
   "metadata": {},
   "cell_type": "code",
   "outputs": [],
   "execution_count": null,
   "source": [
    "model = LogisticRegression(max_iter=1000, random_state=42)\n",
    "model.fit(X_train_scaled, y_train)"
   ],
   "id": "1c4a33eb330c3755"
  },
  {
   "metadata": {},
   "cell_type": "markdown",
   "source": [
    "### **📊 Evaluate the Model**\n",
    "\n",
    "We’ll measure **accuracy** and visualize the **confusion matrix**."
   ],
   "id": "d7b4df6b56a95602"
  },
  {
   "metadata": {},
   "cell_type": "code",
   "outputs": [],
   "execution_count": null,
   "source": [
    "y_pred = model.predict(X_test)\n",
    "\n",
    "acc = accuracy_score(y_test, y_pred)\n",
    "print(f\"Model Accuracy: {acc:.3f}\")\n",
    "\n",
    "cm = confusion_matrix(y_test, y_pred)\n",
    "disp = ConfusionMatrixDisplay(confusion_matrix=cm)\n",
    "disp.plot(cmap='Reds')\n",
    "plt.title(\"Confusion Matrix – Heart Disease Prediction\")\n",
    "plt.show()"
   ],
   "id": "8394012f6291830e"
  },
  {
   "metadata": {},
   "cell_type": "markdown",
   "source": [
    "### **💡 Key Insights**\n",
    "\n",
    "- Logistic Regression performs surprisingly well for this dataset.\n",
    "- You can compare it with other models (like Random Forest or XGBoost) to test improvement.\n",
    "- High accuracy means many risk patterns (like high cholesterol, chest pain, etc.) are successfully learned by the model."
   ],
   "id": "83c26a564b345597"
  },
  {
   "metadata": {},
   "cell_type": "markdown",
   "source": "",
   "id": "ccc46500a026c3c1"
  }
 ],
 "metadata": {
  "kernelspec": {
   "display_name": "Python 3",
   "language": "python",
   "name": "python3"
  },
  "language_info": {
   "codemirror_mode": {
    "name": "ipython",
    "version": 2
   },
   "file_extension": ".py",
   "mimetype": "text/x-python",
   "name": "python",
   "nbconvert_exporter": "python",
   "pygments_lexer": "ipython2",
   "version": "2.7.6"
  }
 },
 "nbformat": 4,
 "nbformat_minor": 5
}
