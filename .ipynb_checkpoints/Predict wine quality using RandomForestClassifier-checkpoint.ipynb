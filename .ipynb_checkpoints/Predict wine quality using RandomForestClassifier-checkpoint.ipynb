{
 "cells": [
  {
   "metadata": {
    "collapsed": true
   },
   "cell_type": "markdown",
   "source": [
    "**Programmer:** python_scripts (Abhijith Warrier)\n",
    "\n",
    "**PYTHON SCRIPT TO *PREDICT (CLASSIFY) WINE QUALITY USING RANDOMFORESTCLASSIFIER*. 🐍🍷🌲🤖**\n",
    "\n",
    "This script trains a **Random Forest** classifier to predict wine *quality labels*.\n",
    "\n",
    "It first tries to use a local **UCI Wine Quality** CSV (red/white). If not found, it **falls back** to scikit-learn’s built-in **load_wine** dataset and treats its class labels as quality tiers (stand-in), so the notebook runs anywhere."
   ],
   "id": "e60176e8ebda8bc"
  },
  {
   "metadata": {},
   "cell_type": "markdown",
   "source": [
    "### **📦 Imports**\n",
    "\n",
    "We’ll use pandas for data handling, scikit-learn for modeling & metrics, and matplotlib for visuals."
   ],
   "id": "316017b297e52824"
  },
  {
   "metadata": {},
   "cell_type": "code",
   "outputs": [],
   "execution_count": null,
   "source": [
    "import os\n",
    "import pandas as pd\n",
    "import numpy as np\n",
    "import matplotlib.pyplot as plt\n",
    "\n",
    "from sklearn.model_selection import train_test_split\n",
    "from sklearn.ensemble import RandomForestClassifier\n",
    "from sklearn.metrics import accuracy_score, classification_report, ConfusionMatrixDisplay"
   ],
   "id": "cb01f4cb06e3da1f"
  },
  {
   "metadata": {},
   "cell_type": "markdown",
   "source": [
    "### **🧩 Load Dataset (Robust: Use local UCI CSV if available → else fallback to load_wine)**\n",
    "\n",
    "- If `winequality-red.csv` or `winequality-white.csv` exists in the working folder, we’ll load it and treat **quality** as the label.\n",
    "- Otherwise, we’ll use `load_wine()` (3 classes) as a quality proxy so the demo is fully runnable."
   ],
   "id": "8380b010688e84b2"
  },
  {
   "metadata": {},
   "cell_type": "code",
   "outputs": [],
   "execution_count": null,
   "source": [
    "from sklearn.datasets import load_wine\n",
    "\n",
    "# Try local UCI CSVs first\n",
    "csv_candidates = [\"winequality-red.csv\", \"winequality-white.csv\"]\n",
    "csv_path = next((p for p in csv_candidates if os.path.exists(p)), None)\n",
    "\n",
    "if csv_path:\n",
    "    df = pd.read_csv(csv_path, sep=\";\")  # UCI CSVs are semicolon-separated\n",
    "    print(f\"✅ Using local dataset: {csv_path}\")\n",
    "    # UCI winequality target is typically an integer 3–8 (quality score). We'll model it as multiclass classification.\n",
    "    X = df.drop(columns=[\"quality\"])\n",
    "    y = df[\"quality\"].astype(int)\n",
    "    feature_names = X.columns.tolist()\n",
    "    dataset_name = f\"UCI Wine Quality ({'red' if 'red' in csv_path else 'white'})\"\n",
    "else:\n",
    "    print(\"⚠️ Local UCI CSV not found. Falling back to scikit-learn `load_wine()`.\")\n",
    "    wine = load_wine(as_frame=True)\n",
    "    df = wine.frame.copy()\n",
    "    # Use built-in class (0/1/2) as quality tiers for a drop-in classification demo\n",
    "    X = df.drop(columns=[\"target\"])\n",
    "    y = df[\"target\"]\n",
    "    feature_names = X.columns.tolist()\n",
    "    dataset_name = \"sklearn load_wine (class tiers as quality)\"\n",
    "\n",
    "df.head()"
   ],
   "id": "8686fe4eeaf44085"
  },
  {
   "metadata": {},
   "cell_type": "markdown",
   "source": [
    "### **✂️ Train/Test Split**\n",
    "\n",
    "We’ll reserve 20% for testing to evaluate generalization."
   ],
   "id": "ff200959ec559b3c"
  },
  {
   "metadata": {},
   "cell_type": "code",
   "outputs": [],
   "execution_count": null,
   "source": [
    "X_train, X_test, y_train, y_test = train_test_split(\n",
    "    X, y, test_size=0.2, stratify=y, random_state=42\n",
    ")"
   ],
   "id": "cd607fe964e7732"
  },
  {
   "metadata": {},
   "cell_type": "markdown",
   "source": [
    "### **🌲 Train a RandomForestClassifier**\n",
    "\n",
    "Random Forests are robust, handle non-linearities, and work well **without scaling**."
   ],
   "id": "ea4c6a89a3a99184"
  },
  {
   "metadata": {},
   "cell_type": "code",
   "outputs": [],
   "execution_count": null,
   "source": [
    "rf = RandomForestClassifier(\n",
    "    n_estimators=300,      # more trees → stabler estimates\n",
    "    max_depth=None,        # let trees grow; forest reduces overfitting\n",
    "    min_samples_leaf=1,\n",
    "    random_state=42,\n",
    "    n_jobs=-1\n",
    ")\n",
    "rf.fit(X_train, y_train)"
   ],
   "id": "21f96eedc60a2041"
  },
  {
   "metadata": {},
   "cell_type": "markdown",
   "source": [
    "### **📊 Evaluate the Model (Accuracy + Classification Report)**\n",
    "\n",
    "We’ll check overall accuracy and class-wise precision/recall/F1."
   ],
   "id": "a77772fd33be8ddc"
  },
  {
   "metadata": {},
   "cell_type": "code",
   "outputs": [],
   "execution_count": null,
   "source": [
    "y_pred = rf.predict(X_test)\n",
    "\n",
    "acc = accuracy_score(y_test, y_pred)\n",
    "print(f\"Dataset: {dataset_name}\")\n",
    "print(f\"Accuracy: {acc:.3f}\\n\")\n",
    "\n",
    "print(\"Classification Report:\")\n",
    "print(classification_report(y_test, y_pred))"
   ],
   "id": "fb0525e87fc3c228"
  },
  {
   "metadata": {},
   "cell_type": "markdown",
   "source": [
    "### **🧩 Confusion Matrix (Visual)**\n",
    "\n",
    "A confusion matrix helps you see where the model confuses adjacent quality levels/classes."
   ],
   "id": "414a40fad3a069a3"
  },
  {
   "metadata": {},
   "cell_type": "code",
   "outputs": [],
   "execution_count": null,
   "source": [
    "disp = ConfusionMatrixDisplay.from_predictions(y_test, y_pred, cmap=\"Blues\")\n",
    "disp.ax_.set_title(\"Confusion Matrix — RandomForest (Wine Quality)\")\n",
    "plt.tight_layout()\n",
    "plt.show()"
   ],
   "id": "87d77344f049e110"
  },
  {
   "metadata": {},
   "cell_type": "markdown",
   "source": [
    "### **🌟 Feature Importance (Global Insight)**\n",
    "\n",
    "Which chemical properties influence the model’s decisions most?"
   ],
   "id": "8c2c67277ff956a2"
  },
  {
   "metadata": {},
   "cell_type": "code",
   "outputs": [],
   "execution_count": null,
   "source": [
    "importances = pd.Series(rf.feature_importances_, index=feature_names).sort_values(ascending=False)\n",
    "\n",
    "plt.figure(figsize=(8, 5))\n",
    "importances.head(15).plot(kind=\"barh\")\n",
    "plt.gca().invert_yaxis()\n",
    "plt.title(\"Top Feature Importances — RandomForest\")\n",
    "plt.xlabel(\"Importance\")\n",
    "plt.tight_layout()\n",
    "plt.show()\n",
    "\n",
    "importances.head(15)"
   ],
   "id": "3ca9276a205affee"
  },
  {
   "metadata": {},
   "cell_type": "markdown",
   "source": [
    "### **✅ Notes & Tips**\n",
    "\n",
    "- **If using the UCI CSVs**, you’re modeling *true quality scores* as a multiclass label. Consider:\n",
    "    - Merging rare classes (e.g., map 3–4→4, 8–9→8) to reduce class sparsity.\n",
    "    - Trying **class_weight=‘balanced’** if your quality distribution is imbalanced.\n",
    "- **If on fallback (load_wine)**, you’re classifying varietal classes (0/1/2) as a *quality tier proxy* purely for demonstration.\n",
    "- For regression on actual quality (0–10), switch to **RandomForestRegressor** and use **MAE/RMSE/R²** instead of accuracy/F1."
   ],
   "id": "aea9f87d567e0718"
  },
  {
   "metadata": {},
   "cell_type": "markdown",
   "source": "",
   "id": "1659eb8ff05dac88"
  }
 ],
 "metadata": {
  "kernelspec": {
   "display_name": "Python 3",
   "language": "python",
   "name": "python3"
  },
  "language_info": {
   "codemirror_mode": {
    "name": "ipython",
    "version": 2
   },
   "file_extension": ".py",
   "mimetype": "text/x-python",
   "name": "python",
   "nbconvert_exporter": "python",
   "pygments_lexer": "ipython2",
   "version": "2.7.6"
  }
 },
 "nbformat": 4,
 "nbformat_minor": 5
}
