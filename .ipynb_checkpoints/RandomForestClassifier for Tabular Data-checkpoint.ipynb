{
 "cells": [
  {
   "metadata": {
    "collapsed": true
   },
   "cell_type": "markdown",
   "source": [
    "**Programmer:** python_scripts (Abhijith Warrier)\n",
    "\n",
    "**PYTHON SCRIPT TO **_TRAIN, EVALUATE, AND INTERPRET A RANDOM FOREST CLASSIFIER ON TABULAR DATA._** 🐍🌲📊**\n",
    "\n",
    "This script loads a real tabular dataset, fits a **RandomForestClassifier**, evaluates with **accuracy & classification report**, plots a **confusion matrix**, and visualizes **feature importance**. Random Forests handle non-linearities, are robust to noise, and work well out of the box."
   ],
   "id": "4dbafcf6a664543d"
  },
  {
   "metadata": {},
   "cell_type": "markdown",
   "source": [
    "### 📦 Import Libraries\n",
    "We’ll use scikit-learn for dataset/model/metrics and matplotlib for charts. Pandas helps with tidy importance tables."
   ],
   "id": "ea52d0dac5e0a5d7"
  },
  {
   "metadata": {},
   "cell_type": "code",
   "outputs": [],
   "execution_count": null,
   "source": [
    "from sklearn.datasets import load_breast_cancer\n",
    "from sklearn.model_selection import train_test_split\n",
    "from sklearn.ensemble import RandomForestClassifier\n",
    "from sklearn.metrics import accuracy_score, classification_report, ConfusionMatrixDisplay\n",
    "import matplotlib.pyplot as plt\n",
    "import pandas as pd\n",
    "import numpy as np"
   ],
   "id": "25747ae79267c653"
  },
  {
   "metadata": {},
   "cell_type": "markdown",
   "source": [
    "### 📥 Load a Real Tabular Dataset\n",
    "We’ll use **Breast Cancer Wisconsin** (binary classification).\n",
    "It has **30 numeric features** (e.g., mean radius, texture) and labels (**malignant/benign**)."
   ],
   "id": "9042ed596dab260d"
  },
  {
   "metadata": {},
   "cell_type": "code",
   "outputs": [],
   "execution_count": null,
   "source": [
    "data = load_breast_cancer()\n",
    "X, y = data.data, data.target\n",
    "feature_names = data.feature_names\n",
    "target_names = data.target_names\n",
    "\n",
    "print(f\"Features shape: {X.shape} | Target shape: {y.shape}\")\n",
    "print(\"Classes:\", list(target_names))"
   ],
   "id": "e36cfc57554ba848"
  },
  {
   "metadata": {},
   "cell_type": "markdown",
   "source": [
    "### ✂️ Train/Test Split (Stratified)\n",
    "Hold out a test set to estimate generalization.\n",
    "**Stratify** to preserve class balance in both splits."
   ],
   "id": "8d7e2a80f2d12d2a"
  },
  {
   "metadata": {},
   "cell_type": "code",
   "outputs": [],
   "execution_count": null,
   "source": [
    "X_train, X_test, y_train, y_test = train_test_split(\n",
    "    X, y, test_size=0.25, stratify=y, random_state=42\n",
    ")"
   ],
   "id": "7b9fe578743f265d"
  },
  {
   "metadata": {},
   "cell_type": "markdown",
   "source": [
    "### 🤖 Initialize & Train RandomForestClassifier\n",
    "Random Forest = **ensemble of decision trees**.\n",
    "Key params you can tune later:\n",
    "- `n_estimators` → number of trees (higher = stabler, slower)\n",
    "- `max_depth` → limit tree depth (None lets trees grow fully)\n",
    "- `min_samples_split` / `min_samples_leaf` → regularize trees\n",
    "- `class_weight='balanced'` → helpful for imbalanced data\n",
    "> Note: **No feature scaling is required** for tree models."
   ],
   "id": "c17be0ac4c9b0b01"
  },
  {
   "metadata": {},
   "cell_type": "code",
   "outputs": [],
   "execution_count": null,
   "source": [
    "rf = RandomForestClassifier(\n",
    "    n_estimators=300,  # solid default for stability\n",
    "    max_depth=None,  # grow trees fully; tune if overfitting\n",
    "    n_jobs=-1,  # use all CPU cores\n",
    "    random_state=42\n",
    ")\n",
    "rf.fit(X_train, y_train)"
   ],
   "id": "644d1d83f02fee02"
  },
  {
   "metadata": {},
   "cell_type": "markdown",
   "source": [
    "### 🔮 Predict & Evaluate\n",
    "Compute **accuracy** and a **classification report** (precision/recall/F1 per class)."
   ],
   "id": "afb3c9427c1ad3bc"
  },
  {
   "metadata": {},
   "cell_type": "code",
   "outputs": [],
   "execution_count": null,
   "source": [
    "y_pred = rf.predict(X_test)\n",
    "\n",
    "acc = accuracy_score(y_test, y_pred)\n",
    "print(f\"Test Accuracy: {acc:.4f}\\n\")\n",
    "print(\"Classification Report:\\n\", classification_report(y_test, y_pred, target_names=target_names))"
   ],
   "id": "6c1636b4740a4af"
  },
  {
   "metadata": {},
   "cell_type": "markdown",
   "source": [
    "### 📊 Confusion Matrix (Visual Check)\n",
    "See correct vs misclassified samples per class."
   ],
   "id": "43aaa8a2a260bf19"
  },
  {
   "metadata": {},
   "cell_type": "code",
   "outputs": [],
   "execution_count": null,
   "source": [
    "ConfusionMatrixDisplay.from_predictions(\n",
    "    y_test, y_pred, display_labels=target_names, cmap=\"Blues\"\n",
    ")\n",
    "plt.title(\"RandomForestClassifier — Confusion Matrix\")\n",
    "plt.tight_layout()\n",
    "plt.show()"
   ],
   "id": "586ea9b483df0190"
  },
  {
   "metadata": {},
   "cell_type": "markdown",
   "source": [
    "### 🌟 Feature Importance (Global Interpretation)\n",
    "Random Forests provide **impurity-based feature importances**.\n",
    "We’ll show the **Top 10** to understand drivers of the prediction."
   ],
   "id": "34bea2655f8a5132"
  },
  {
   "metadata": {},
   "cell_type": "code",
   "outputs": [],
   "execution_count": null,
   "source": [
    "importances = rf.feature_importances_\n",
    "imp_df = pd.DataFrame({\"feature\": feature_names, \"importance\": importances})\n",
    "imp_top10 = imp_df.sort_values(\"importance\", ascending=False).head(10)\n",
    "\n",
    "plt.figure(figsize=(8, 5))\n",
    "plt.barh(imp_top10[\"feature\"], imp_top10[\"importance\"])\n",
    "plt.gca().invert_yaxis()\n",
    "plt.xlabel(\"Importance\")\n",
    "plt.title(\"Top 10 Feature Importances — Random Forest\")\n",
    "plt.tight_layout()\n",
    "plt.show()\n",
    "\n",
    "imp_top10"
   ],
   "id": "f87874a7289087ea"
  },
  {
   "metadata": {},
   "cell_type": "markdown",
   "source": [
    "### 📝 Notes & Tips\n",
    "- Start with defaults; then tune `n_estimators`, `max_depth`, `min_samples_leaf` for speed vs. performance.\n",
    "- For **imbalance**, try `class_weight='balanced'` or resampling (SMOTE).\n",
    "- Use **cross-validation** (`cross_val_score`) to get a more reliable estimate.\n",
    "- Impurity importance can be biased; consider **Permutation Importance** or **SHAP** for deeper insights."
   ],
   "id": "5663828b2513d4ba"
  },
  {
   "metadata": {},
   "cell_type": "code",
   "outputs": [],
   "execution_count": null,
   "source": "",
   "id": "7d9c900d68d35f01"
  }
 ],
 "metadata": {
  "kernelspec": {
   "display_name": "Python 3",
   "language": "python",
   "name": "python3"
  },
  "language_info": {
   "codemirror_mode": {
    "name": "ipython",
    "version": 2
   },
   "file_extension": ".py",
   "mimetype": "text/x-python",
   "name": "python",
   "nbconvert_exporter": "python",
   "pygments_lexer": "ipython2",
   "version": "2.7.6"
  }
 },
 "nbformat": 4,
 "nbformat_minor": 5
}
