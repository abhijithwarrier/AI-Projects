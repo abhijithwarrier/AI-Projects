{
 "cells": [
  {
   "metadata": {
    "collapsed": true
   },
   "cell_type": "markdown",
   "source": [
    "**Programmer:** python_scripts (Abhijith Warrier)\n",
    "\n",
    "**PYTHON SCRIPT TO **_COMPARE RIDGE AND LASSO REGULARIZATION IN LINEAR MODELS_**. 🐍📈🤖**\n",
    "\n",
    "This script demonstrates how **Ridge and Lasso regularization** techniques help prevent **overfitting** in linear regression models by penalizing large coefficients."
   ],
   "id": "d747265fe3e4b174"
  },
  {
   "metadata": {},
   "cell_type": "markdown",
   "source": [
    "### 🧩 Load Libraries and Dataset\n",
    "\n",
    "We’ll use the diabetes dataset from scikit-learn for regression comparison."
   ],
   "id": "a0f3e239151458eb"
  },
  {
   "metadata": {},
   "cell_type": "code",
   "outputs": [],
   "execution_count": null,
   "source": [
    "# Import necessary libraries\n",
    "from sklearn.datasets import load_diabetes\n",
    "from sklearn.linear_model import LinearRegression, Ridge, Lasso\n",
    "from sklearn.model_selection import train_test_split\n",
    "from sklearn.metrics import mean_squared_error\n",
    "import pandas as pd\n",
    "\n",
    "# Load dataset\n",
    "data = load_diabetes()\n",
    "X, y = data.data, data.target"
   ],
   "id": "cf221e6ae36a9f3a"
  },
  {
   "metadata": {},
   "cell_type": "markdown",
   "source": [
    "### 🔀 Split Data into Training and Testing Sets\n",
    "\n",
    "We divide the dataset to evaluate how well our models generalize."
   ],
   "id": "2316c78dbe7065f3"
  },
  {
   "metadata": {},
   "cell_type": "code",
   "outputs": [],
   "execution_count": null,
   "source": "X_train, X_test, y_train, y_test = train_test_split(X, y, test_size=0.2, random_state=42)",
   "id": "6fbfe6afed59152d"
  },
  {
   "metadata": {},
   "cell_type": "markdown",
   "source": [
    "### ⚙️ Train Linear, Ridge, and Lasso Models\n",
    "\n",
    "We’ll compare a simple Linear Regression model with Ridge and Lasso."
   ],
   "id": "82ffa482a60d9540"
  },
  {
   "metadata": {},
   "cell_type": "code",
   "outputs": [],
   "execution_count": null,
   "source": [
    "# Initialize models\n",
    "lr = LinearRegression()\n",
    "ridge = Ridge(alpha=1.0)\n",
    "lasso = Lasso(alpha=0.1)\n",
    "\n",
    "# Fit models\n",
    "lr.fit(X_train, y_train)\n",
    "ridge.fit(X_train, y_train)\n",
    "lasso.fit(X_train, y_train)"
   ],
   "id": "d134901d72bc9bdc"
  },
  {
   "metadata": {},
   "cell_type": "markdown",
   "source": [
    "### 📊 Evaluate Performance using Mean Squared Error\n",
    "\n",
    "Lower MSE indicates better performance and less overfitting."
   ],
   "id": "63fef155e54e21b7"
  },
  {
   "metadata": {},
   "cell_type": "code",
   "outputs": [],
   "execution_count": null,
   "source": [
    "# Predictions\n",
    "lr_pred = lr.predict(X_test)\n",
    "ridge_pred = ridge.predict(X_test)\n",
    "lasso_pred = lasso.predict(X_test)\n",
    "\n",
    "# Calculate MSE\n",
    "mse_lr = mean_squared_error(y_test, lr_pred)\n",
    "mse_ridge = mean_squared_error(y_test, ridge_pred)\n",
    "mse_lasso = mean_squared_error(y_test, lasso_pred)\n",
    "\n",
    "# Display results\n",
    "results = pd.DataFrame({\n",
    "    \"Model\": [\"Linear Regression\", \"Ridge\", \"Lasso\"],\n",
    "    \"MSE\": [mse_lr, mse_ridge, mse_lasso]\n",
    "})\n",
    "\n",
    "print(results)"
   ],
   "id": "6b372dbd2c342351"
  },
  {
   "metadata": {},
   "cell_type": "markdown",
   "source": [
    "### 🧠 Interpretation\n",
    "- Linear Regression → may overfit (no penalty).\n",
    "- Ridge → shrinks coefficients (L2 penalty).\n",
    "- Lasso → can eliminate features (L1 penalty)."
   ],
   "id": "a2b32f6a660cd2db"
  },
  {
   "metadata": {},
   "cell_type": "markdown",
   "source": "",
   "id": "3433557de748c270"
  }
 ],
 "metadata": {
  "kernelspec": {
   "display_name": "Python 3",
   "language": "python",
   "name": "python3"
  },
  "language_info": {
   "codemirror_mode": {
    "name": "ipython",
    "version": 2
   },
   "file_extension": ".py",
   "mimetype": "text/x-python",
   "name": "python",
   "nbconvert_exporter": "python",
   "pygments_lexer": "ipython2",
   "version": "2.7.6"
  }
 },
 "nbformat": 4,
 "nbformat_minor": 5
}
