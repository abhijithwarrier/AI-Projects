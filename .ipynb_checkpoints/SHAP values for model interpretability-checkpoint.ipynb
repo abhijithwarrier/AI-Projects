{
 "cells": [
  {
   "metadata": {
    "collapsed": true
   },
   "cell_type": "markdown",
   "source": [
    "**Programmer:** python_scripts (Abhijith Warrier)\n",
    "\n",
    "**PYTHON SCRIPT TO **_EXPLAIN MODEL PREDICTIONS USING SHAP VALUES IN PYTHON_**. 🐍📊🤖**\n",
    "\n",
    "This script demonstrates how to use **SHAP (SHapley Additive exPlanations)** to interpret predictions made by a machine learning model.\n",
    "SHAP helps identify how much each feature contributes to the final output, offering transparency in model behavior."
   ],
   "id": "692e1175b14f83da"
  },
  {
   "metadata": {},
   "cell_type": "markdown",
   "source": [
    "### 📦 Install and Import Required Libraries\n",
    "\n",
    "We’ll use SHAP for interpretability and RandomForestClassifier for model training."
   ],
   "id": "a438db5d45e36a61"
  },
  {
   "metadata": {},
   "cell_type": "code",
   "outputs": [],
   "execution_count": null,
   "source": [
    "# Install SHAP (if not installed)\n",
    "# !pip install shap\n",
    "\n",
    "# Import libraries\n",
    "import shap\n",
    "import pandas as pd\n",
    "import numpy as np\n",
    "from sklearn.datasets import load_iris\n",
    "from sklearn.model_selection import train_test_split\n",
    "from sklearn.ensemble import RandomForestClassifier\n",
    "import matplotlib.pyplot as plt"
   ],
   "id": "4d551651d63f972f"
  },
  {
   "metadata": {},
   "cell_type": "markdown",
   "source": [
    "### 🧩 Load and Prepare the Dataset\n",
    "\n",
    "We’ll use the Iris dataset for simplicity."
   ],
   "id": "f19d50fbd2c68b2e"
  },
  {
   "metadata": {},
   "cell_type": "code",
   "outputs": [],
   "execution_count": null,
   "source": [
    "# Load dataset\n",
    "iris = load_iris()\n",
    "X = pd.DataFrame(iris.data, columns=iris.feature_names)\n",
    "y = iris.target\n",
    "\n",
    "# Split data\n",
    "X_train, X_test, y_train, y_test = train_test_split(X, y, test_size=0.2, random_state=42)"
   ],
   "id": "6a0594db3c8590d8"
  },
  {
   "metadata": {},
   "cell_type": "markdown",
   "source": [
    "### 🤖 Train the Model\n",
    "\n",
    "We train a simple Random Forest Classifier for demonstration."
   ],
   "id": "d45c8cf1c7be10b4"
  },
  {
   "metadata": {},
   "cell_type": "code",
   "outputs": [],
   "execution_count": null,
   "source": [
    "# Initialize and train model\n",
    "model = RandomForestClassifier(random_state=42)\n",
    "model.fit(X_train, y_train)"
   ],
   "id": "16c2a5d977d05214"
  },
  {
   "metadata": {},
   "cell_type": "markdown",
   "source": [
    "### 🔍 Initialize SHAP Explainer\n",
    "\n",
    "We create a SHAP explainer to analyze feature impact on model predictions."
   ],
   "id": "b3e1ddbcdfbf7722"
  },
  {
   "metadata": {},
   "cell_type": "code",
   "outputs": [],
   "execution_count": null,
   "source": [
    "# Create SHAP explainer\n",
    "explainer = shap.TreeExplainer(model)\n",
    "\n",
    "# Compute SHAP values for test data\n",
    "shap_values = explainer.shap_values(X_test)"
   ],
   "id": "ce81803d62b53a11"
  },
  {
   "metadata": {},
   "cell_type": "markdown",
   "source": [
    "### 📊 Visualize Feature Importance (Global View)\n",
    "\n",
    "SHAP summary plot shows the impact of each feature across all predictions."
   ],
   "id": "a7152a1cc3abeea3"
  },
  {
   "metadata": {},
   "cell_type": "code",
   "outputs": [],
   "execution_count": null,
   "source": [
    "# Plot summary of feature importance\n",
    "shap.summary_plot(shap_values, X_test, feature_names=X_test.columns)"
   ],
   "id": "d14791ebf1363ceb"
  },
  {
   "metadata": {},
   "cell_type": "markdown",
   "source": [
    "### 🧠 Explain a Single Prediction (Local View)\n",
    "\n",
    "We can also visualize the contribution of each feature for an individual prediction."
   ],
   "id": "fc5019fe2ce6a43e"
  },
  {
   "metadata": {},
   "cell_type": "code",
   "outputs": [],
   "execution_count": null,
   "source": [
    "# Pick one sample to explain\n",
    "sample = X_test.iloc[0:1]\n",
    "\n",
    "# Plot force plot for single prediction\n",
    "shap.initjs()\n",
    "shap.force_plot(explainer.expected_value[0], shap_values[0][0], sample)"
   ],
   "id": "ba92b8143281daba"
  },
  {
   "metadata": {},
   "cell_type": "markdown",
   "source": [
    "### ✅ Interpretation\n",
    "- Red features push predictions higher toward a certain class.\n",
    "- Blue features push predictions lower.\n",
    "- The length of each bar in the plot indicates the strength of the impact.\n",
    "- Use SHAP to debug, trust, and explain your model predictions — especially in critical AI systems."
   ],
   "id": "3d2f60425d1589a6"
  },
  {
   "metadata": {},
   "cell_type": "markdown",
   "source": "",
   "id": "3a3b44a452a000f7"
  }
 ],
 "metadata": {
  "kernelspec": {
   "display_name": "Python 3",
   "language": "python",
   "name": "python3"
  },
  "language_info": {
   "codemirror_mode": {
    "name": "ipython",
    "version": 2
   },
   "file_extension": ".py",
   "mimetype": "text/x-python",
   "name": "python",
   "nbconvert_exporter": "python",
   "pygments_lexer": "ipython2",
   "version": "2.7.6"
  }
 },
 "nbformat": 4,
 "nbformat_minor": 5
}
