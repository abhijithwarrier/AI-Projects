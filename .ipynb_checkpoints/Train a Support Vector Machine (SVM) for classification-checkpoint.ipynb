{
 "cells": [
  {
   "metadata": {
    "collapsed": true
   },
   "cell_type": "markdown",
   "source": [
    "**Programmer:** python_scripts (Abhijith Warrier)\n",
    "\n",
    "**PYTHON SCRIPT TO **_TRAIN & EVALUATE AN SVM CLASSIFIER WITH PROPER SCALING._** 🐍🧪📈**\n",
    "\n",
    "This script builds a clean **Pipeline (StandardScaler → SVC)** on the Iris dataset, evaluates it with **accuracy & classification report**, plots a **confusion matrix**, and (optionally) visualizes **decision boundaries** in 2D."
   ],
   "id": "883243983823caa0"
  },
  {
   "metadata": {},
   "cell_type": "markdown",
   "source": [
    "### 📦 Import Libraries\n",
    "We’ll use scikit-learn for data, model, and metrics; matplotlib for visuals; pandas for tidy tables."
   ],
   "id": "da48746a8837b097"
  },
  {
   "metadata": {},
   "cell_type": "code",
   "outputs": [],
   "execution_count": null,
   "source": [
    "from sklearn.datasets import load_iris\n",
    "from sklearn.model_selection import train_test_split\n",
    "from sklearn.preprocessing import StandardScaler\n",
    "from sklearn.pipeline import Pipeline\n",
    "from sklearn.svm import SVC\n",
    "from sklearn.metrics import accuracy_score, classification_report, ConfusionMatrixDisplay\n",
    "import matplotlib.pyplot as plt\n",
    "import numpy as np\n",
    "import pandas as pd"
   ],
   "id": "beef6575c14f701e"
  },
  {
   "metadata": {},
   "cell_type": "markdown",
   "source": [
    "### 📥 Load Dataset\n",
    "Iris has 4 numeric features across 3 classes (`setosa`, `versicolor`, `virginica`)."
   ],
   "id": "4d04e482cb58e4cd"
  },
  {
   "metadata": {},
   "cell_type": "code",
   "outputs": [],
   "execution_count": null,
   "source": [
    "iris = load_iris()\n",
    "X, y = iris.data, iris.target\n",
    "feature_names = iris.feature_names\n",
    "target_names = iris.target_names\n",
    "\n",
    "print(\"X shape:\", X.shape, \"| y shape:\", y.shape)\n",
    "print(\"Classes:\", list(target_names))"
   ],
   "id": "e9ef724180d5c02b"
  },
  {
   "metadata": {},
   "cell_type": "markdown",
   "source": [
    "### ✂️ Train/Test Split (Stratified)\n",
    "Hold out a test set to estimate generalization; keep class balance consistent."
   ],
   "id": "ab727928d20cab82"
  },
  {
   "metadata": {},
   "cell_type": "code",
   "outputs": [],
   "execution_count": null,
   "source": [
    "X_train, X_test, y_train, y_test = train_test_split(\n",
    "    X, y, test_size=0.25, stratify=y, random_state=42\n",
    ")"
   ],
   "id": "7f4781ebd07b3433"
  },
  {
   "metadata": {},
   "cell_type": "markdown",
   "source": [
    "### ⚙️ Build the Pipeline: **Standardize → SVC (RBF kernel)**\n",
    "SVMs are **scale-sensitive**, so we standardize features inside the Pipeline to prevent leakage."
   ],
   "id": "5b514bf6eece8a04"
  },
  {
   "metadata": {},
   "cell_type": "code",
   "outputs": [],
   "execution_count": null,
   "source": [
    "clf = Pipeline(steps=[\n",
    "    (\"scaler\", StandardScaler()),\n",
    "    (\"svm\", SVC(kernel=\"rbf\", C=1.0, gamma=\"scale\", probability=False, random_state=42))\n",
    "])"
   ],
   "id": "40b2c23c9490c4c"
  },
  {
   "metadata": {},
   "cell_type": "markdown",
   "source": [
    "### 🚀 Train the Model\n",
    "`fit()` runs scaling on train data and fits the SVM in one go."
   ],
   "id": "fb981df3df0ae156"
  },
  {
   "metadata": {},
   "cell_type": "code",
   "outputs": [],
   "execution_count": null,
   "source": "clf.fit(X_train, y_train)",
   "id": "9f38e9da3beb7c69"
  },
  {
   "metadata": {},
   "cell_type": "markdown",
   "source": [
    "### 🔮 Predict & Evaluate\n",
    "Compute **accuracy** and a **classification report** (precision/recall/F1 per class)."
   ],
   "id": "2812f04da6476727"
  },
  {
   "metadata": {},
   "cell_type": "code",
   "outputs": [],
   "execution_count": null,
   "source": [
    "y_pred = clf.predict(X_test)\n",
    "\n",
    "acc = accuracy_score(y_test, y_pred)\n",
    "print(f\"Test Accuracy: {acc:.4f}\\n\")\n",
    "print(\"Classification Report:\\n\", classification_report(y_test, y_pred, target_names=target_names))"
   ],
   "id": "87cfc63e3db64aa"
  },
  {
   "metadata": {},
   "cell_type": "markdown",
   "source": [
    "### 📊 Confusion Matrix (Quick Visual Check)\n",
    "See how predictions align with true labels across classes."
   ],
   "id": "48b72206c09848a3"
  },
  {
   "metadata": {},
   "cell_type": "code",
   "outputs": [],
   "execution_count": null,
   "source": [
    "ConfusionMatrixDisplay.from_predictions(y_test, y_pred, display_labels=target_names, cmap=\"Blues\")\n",
    "plt.title(\"SVM (RBF) — Confusion Matrix\")\n",
    "plt.tight_layout()\n",
    "plt.show()"
   ],
   "id": "4ee9489e56d54358"
  },
  {
   "metadata": {},
   "cell_type": "markdown",
   "source": [
    "### 🗺️ (Optional) Visualize 2D Decision Boundaries\n",
    "Project to two features (petal length/width) and plot SVM regions.\n",
    "*Tip:* This is for intuition only; the trained model above used **all 4 features**."
   ],
   "id": "5905648bfff75a90"
  },
  {
   "metadata": {},
   "cell_type": "code",
   "outputs": [],
   "execution_count": null,
   "source": [
    "# Choose two informative features (indices for petal length, petal width)\n",
    "f1, f2 = 2, 3\n",
    "X2 = X[:, [f1, f2]]\n",
    "\n",
    "# Re-split for this 2D visualization\n",
    "X2_train, X2_test, y2_train, y2_test = train_test_split(\n",
    "    X2, y, test_size=0.25, stratify=y, random_state=42\n",
    ")\n",
    "\n",
    "viz_clf = Pipeline(steps=[\n",
    "    (\"scaler\", StandardScaler()),\n",
    "    (\"svm\", SVC(kernel=\"rbf\", C=1.0, gamma=\"scale\", random_state=42))\n",
    "]).fit(X2_train, y2_train)\n",
    "\n",
    "# Create a meshgrid\n",
    "x_min, x_max = X2[:, 0].min() - 0.5, X2[:, 0].max() + 0.5\n",
    "y_min, y_max = X2[:, 1].min() - 0.5, X2[:, 1].max() + 0.5\n",
    "xx, yy = np.meshgrid(np.linspace(x_min, x_max, 300),\n",
    "                     np.linspace(y_min, y_max, 300))\n",
    "\n",
    "# Predict on grid\n",
    "Z = viz_clf.predict(np.c_[xx.ravel(), yy.ravel()]).reshape(xx.shape)\n",
    "\n",
    "# Plot regions + training points\n",
    "plt.figure(figsize=(7, 5))\n",
    "plt.contourf(xx, yy, Z, alpha=0.25, cmap=\"Paired\")\n",
    "scatter = plt.scatter(X2_train[:, 0], X2_train[:, 1], c=y2_train, s=40, edgecolor=\"k\", cmap=\"Paired\")\n",
    "plt.xlabel(feature_names[f1])\n",
    "plt.ylabel(feature_names[f2])\n",
    "plt.title(\"SVM (RBF) Decision Boundaries — 2 Features\")\n",
    "plt.legend(handles=scatter.legend_elements()[0], labels=list(target_names), title=\"Class\", loc=\"upper left\")\n",
    "plt.tight_layout()\n",
    "plt.show()"
   ],
   "id": "ddf25f29d2d11b7b"
  },
  {
   "metadata": {},
   "cell_type": "markdown",
   "source": [
    "### 📝 Notes & Tips\n",
    "- **Scaling is essential** for SVMs — always include `StandardScaler` in a Pipeline.\n",
    "- Start with `kernel=\"rbf\"`, `C=1.0`, `gamma=\"scale\"`; tune with **GridSearchCV**.\n",
    "- Larger `C` → less regularization (can overfit); smaller `C` → more regularization.\n",
    "- For linear problems or very high-dimensional sparse data, try `LinearSVC`.\n",
    "- Use **StratifiedKFold** + cross-validation to get stable performance estimates."
   ],
   "id": "a4b7fac6359690b8"
  },
  {
   "metadata": {},
   "cell_type": "markdown",
   "source": "",
   "id": "6dea0ce586dfb0ad"
  }
 ],
 "metadata": {
  "kernelspec": {
   "display_name": "Python 3",
   "language": "python",
   "name": "python3"
  },
  "language_info": {
   "codemirror_mode": {
    "name": "ipython",
    "version": 2
   },
   "file_extension": ".py",
   "mimetype": "text/x-python",
   "name": "python",
   "nbconvert_exporter": "python",
   "pygments_lexer": "ipython2",
   "version": "2.7.6"
  }
 },
 "nbformat": 4,
 "nbformat_minor": 5
}
