{
 "cells": [
  {
   "metadata": {
    "collapsed": true
   },
   "cell_type": "markdown",
   "source": [
    "**Programmer:** python_scripts (Abhijith Warrier)\n",
    "\n",
    "**PYTHON SCRIPT TO **_VISUALIZE HANDWRITTEN DIGITS USING MATPLOTLIB_**. 🐍🖼️🔢**\n",
    "\n",
    "This script demonstrates how to load the **digits dataset** from scikit-learn and use **matplotlib** to visualize the 8×8 grayscale images. It’s a great way to understand the dataset before applying machine learning models."
   ],
   "id": "9e73488f5884e1fb"
  },
  {
   "metadata": {},
   "cell_type": "markdown",
   "source": [
    "### 📦 Import Required Libraries\n",
    "\n",
    "We’ll use scikit-learn to load the dataset and matplotlib for visualization."
   ],
   "id": "eef16e1961ca8988"
  },
  {
   "metadata": {},
   "cell_type": "code",
   "outputs": [],
   "execution_count": null,
   "source": [
    "from sklearn.datasets import load_digits\n",
    "import matplotlib.pyplot as plt"
   ],
   "id": "3d3d2daa4fdc6e92"
  },
  {
   "metadata": {},
   "cell_type": "markdown",
   "source": [
    "### 📥 Load the Digits Dataset\n",
    "\n",
    "Each digit is stored as an 8×8 grayscale image with pixel values ranging from 0–16."
   ],
   "id": "24185f9883824b9c"
  },
  {
   "metadata": {},
   "cell_type": "code",
   "outputs": [],
   "execution_count": null,
   "source": [
    "# Load digits dataset\n",
    "digits = load_digits()\n",
    "\n",
    "# Inspect dataset shape\n",
    "print(\"Images shape:\", digits.images.shape)\n",
    "print(\"Target labels shape:\", digits.target.shape)"
   ],
   "id": "210f07a4f81c84c6"
  },
  {
   "metadata": {},
   "cell_type": "markdown",
   "source": [
    "### 🖼️ Display a Single Digit Image\n",
    "\n",
    "Pick an image (index 0) and show it in grayscale."
   ],
   "id": "520cdb7188859911"
  },
  {
   "metadata": {},
   "cell_type": "code",
   "outputs": [],
   "execution_count": null,
   "source": [
    "# Display the first digit\n",
    "plt.imshow(digits.images[0], cmap=\"gray\")\n",
    "plt.title(f\"Label: {digits.target[0]}\")\n",
    "plt.axis(\"off\")\n",
    "plt.show()"
   ],
   "id": "7d64463014ba8e83"
  },
  {
   "metadata": {},
   "cell_type": "markdown",
   "source": [
    "### 🔢 Display Multiple Digits in a Grid\n",
    "\n",
    "Plot the first 10 digit images with their labels."
   ],
   "id": "6e7c63749faa8770"
  },
  {
   "metadata": {},
   "cell_type": "code",
   "outputs": [],
   "execution_count": null,
   "source": [
    "# Plot first 10 digits with labels\n",
    "fig, axes = plt.subplots(2, 5, figsize=(10, 4))\n",
    "\n",
    "for i, ax in enumerate(axes.flat):\n",
    "    ax.imshow(digits.images[i], cmap=\"gray\")\n",
    "    ax.set_title(f\"Label: {digits.target[i]}\")\n",
    "    ax.axis(\"off\")\n",
    "\n",
    "plt.suptitle(\"Sample Handwritten Digits\", fontsize=14)\n",
    "plt.tight_layout()\n",
    "plt.show()"
   ],
   "id": "c3d46f4e970457c"
  },
  {
   "metadata": {},
   "cell_type": "markdown",
   "source": [
    "### 🎨 Customize Visualization (Optional)\n",
    "\n",
    "Try different colormaps like \"viridis\", \"hot\", or \"Blues\" for variety."
   ],
   "id": "ebe88888d289f640"
  },
  {
   "metadata": {},
   "cell_type": "code",
   "outputs": [],
   "execution_count": null,
   "source": [
    "# Example with a different colormap\n",
    "plt.imshow(digits.images[1], cmap=\"viridis\")\n",
    "plt.title(f\"Label: {digits.target[1]}\")\n",
    "plt.axis(\"off\")\n",
    "plt.show()"
   ],
   "id": "12805e24f4baae51"
  },
  {
   "metadata": {},
   "cell_type": "markdown",
   "source": "",
   "id": "d4d83c620bd06151"
  }
 ],
 "metadata": {
  "kernelspec": {
   "display_name": "Python 3",
   "language": "python",
   "name": "python3"
  },
  "language_info": {
   "codemirror_mode": {
    "name": "ipython",
    "version": 2
   },
   "file_extension": ".py",
   "mimetype": "text/x-python",
   "name": "python",
   "nbconvert_exporter": "python",
   "pygments_lexer": "ipython2",
   "version": "2.7.6"
  }
 },
 "nbformat": 4,
 "nbformat_minor": 5
}
