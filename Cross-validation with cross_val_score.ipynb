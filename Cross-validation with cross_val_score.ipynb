{
 "cells": [
  {
   "metadata": {
    "collapsed": true
   },
   "cell_type": "markdown",
   "source": [
    "**Programmer:** python_scripts (Abhijith Warrier)\n",
    "\n",
    "**PYTHON SCRIPT TO **_PERFORM CROSS-VALIDATION WITH cross_val_score IN SCIKIT-LEARN_**. 🐍🤖📊**\n",
    "\n",
    "This script demonstrates how to evaluate a machine learning model more reliably using k-fold cross-validation, instead of depending on a single train-test split."
   ],
   "id": "7243db37209ff9fb"
  },
  {
   "metadata": {},
   "cell_type": "markdown",
   "source": [
    "### 📦 Import Required Libraries\n",
    "\n",
    "We’ll use scikit-learn for dataset loading, model building, and cross-validation."
   ],
   "id": "9bf9aa239fc6a014"
  },
  {
   "metadata": {
    "ExecuteTime": {
     "end_time": "2025-08-19T18:01:40.211379Z",
     "start_time": "2025-08-19T18:01:34.969154Z"
    }
   },
   "cell_type": "code",
   "source": [
    "# Import dataset, model, and cross-validation utilities\n",
    "from sklearn.datasets import load_iris\n",
    "from sklearn.model_selection import cross_val_score\n",
    "from sklearn.linear_model import LogisticRegression\n",
    "import numpy as np"
   ],
   "id": "b7d90275da1a25e3",
   "outputs": [],
   "execution_count": 2
  },
  {
   "metadata": {},
   "cell_type": "markdown",
   "source": [
    "### 📥 Load Dataset\n",
    "\n",
    "The Iris dataset is used, which is a standard dataset for classification problems."
   ],
   "id": "fa80fd099158002c"
  },
  {
   "metadata": {
    "ExecuteTime": {
     "end_time": "2025-08-19T18:01:43.376456Z",
     "start_time": "2025-08-19T18:01:43.367500Z"
    }
   },
   "cell_type": "code",
   "source": [
    "# Load the Iris dataset\n",
    "iris = load_iris()\n",
    "X, y = iris.data, iris.target"
   ],
   "id": "1225f5d4257110e4",
   "outputs": [],
   "execution_count": 3
  },
  {
   "metadata": {},
   "cell_type": "markdown",
   "source": [
    "### 🏗️ Define the Model\n",
    "\n",
    "We’ll use a Logistic Regression classifier for this demo."
   ],
   "id": "d66b7a8211bfa1bf"
  },
  {
   "metadata": {
    "ExecuteTime": {
     "end_time": "2025-08-19T18:01:46.143756Z",
     "start_time": "2025-08-19T18:01:46.141037Z"
    }
   },
   "cell_type": "code",
   "source": [
    "# Initialize the Logistic Regression model\n",
    "model = LogisticRegression(max_iter=200)"
   ],
   "id": "690c2706a5f34e5",
   "outputs": [],
   "execution_count": 4
  },
  {
   "metadata": {},
   "cell_type": "markdown",
   "source": [
    "### 🔄 Apply Cross-Validation\n",
    "\n",
    "We run 5-fold cross-validation to evaluate the model on different splits of the dataset."
   ],
   "id": "d3082c79e0123896"
  },
  {
   "metadata": {
    "ExecuteTime": {
     "end_time": "2025-08-19T18:01:48.045825Z",
     "start_time": "2025-08-19T18:01:48.002264Z"
    }
   },
   "cell_type": "code",
   "source": [
    "# Perform 5-fold cross-validation\n",
    "scores = cross_val_score(model, X, y, cv=5)\n",
    "print(\"Cross-validation scores:\", scores)"
   ],
   "id": "556989e3c562d94c",
   "outputs": [
    {
     "name": "stdout",
     "output_type": "stream",
     "text": [
      "Cross-validation scores: [0.96666667 1.         0.93333333 0.96666667 1.        ]\n"
     ]
    }
   ],
   "execution_count": 5
  },
  {
   "metadata": {},
   "cell_type": "markdown",
   "source": [
    "### 📊 Compute Mean Accuracy\n",
    "\n",
    "Averaging across folds gives a better estimate of the model’s true performance."
   ],
   "id": "a819b8f3df2cd342"
  },
  {
   "metadata": {
    "ExecuteTime": {
     "end_time": "2025-08-19T18:01:53.660959Z",
     "start_time": "2025-08-19T18:01:53.657668Z"
    }
   },
   "cell_type": "code",
   "source": [
    "# Print the mean accuracy across folds\n",
    "print(\"Mean accuracy:\", np.mean(scores))"
   ],
   "id": "5fff62e06f1292b8",
   "outputs": [
    {
     "name": "stdout",
     "output_type": "stream",
     "text": [
      "Mean accuracy: 0.9733333333333334\n"
     ]
    }
   ],
   "execution_count": 6
  },
  {
   "metadata": {},
   "cell_type": "code",
   "outputs": [],
   "execution_count": null,
   "source": "",
   "id": "c80034790636ae67"
  }
 ],
 "metadata": {
  "kernelspec": {
   "display_name": "Python 3",
   "language": "python",
   "name": "python3"
  },
  "language_info": {
   "codemirror_mode": {
    "name": "ipython",
    "version": 2
   },
   "file_extension": ".py",
   "mimetype": "text/x-python",
   "name": "python",
   "nbconvert_exporter": "python",
   "pygments_lexer": "ipython2",
   "version": "2.7.6"
  }
 },
 "nbformat": 4,
 "nbformat_minor": 5
}
