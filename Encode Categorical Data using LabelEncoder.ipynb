{
 "cells": [
  {
   "cell_type": "code",
   "execution_count": 1,
   "id": "1f4d13a68a0a1b18",
   "metadata": {
    "ExecuteTime": {
     "end_time": "2025-07-12T19:49:33.576915Z",
     "start_time": "2025-07-12T19:49:33.573087Z"
    }
   },
   "outputs": [],
   "source": [
    "# Import LabelEncoder for encoding categories\n",
    "# Import pandas to create and manage the dataset\n",
    "from sklearn.preprocessing import LabelEncoder\n",
    "import pandas as pd"
   ]
  },
  {
   "cell_type": "markdown",
   "id": "5f8446db47a534af",
   "metadata": {},
   "source": [
    "### 📊 Sample Categorical Data\n",
    "We’ll use a list of city names as our sample categorical feature."
   ]
  },
  {
   "cell_type": "code",
   "execution_count": 2,
   "id": "263ffbdee0df389a",
   "metadata": {
    "ExecuteTime": {
     "end_time": "2025-07-12T19:49:36.496883Z",
     "start_time": "2025-07-12T19:49:36.487038Z"
    }
   },
   "outputs": [
    {
     "data": {
      "text/html": [
       "<div>\n",
       "<style scoped>\n",
       "    .dataframe tbody tr th:only-of-type {\n",
       "        vertical-align: middle;\n",
       "    }\n",
       "\n",
       "    .dataframe tbody tr th {\n",
       "        vertical-align: top;\n",
       "    }\n",
       "\n",
       "    .dataframe thead th {\n",
       "        text-align: right;\n",
       "    }\n",
       "</style>\n",
       "<table border=\"1\" class=\"dataframe\">\n",
       "  <thead>\n",
       "    <tr style=\"text-align: right;\">\n",
       "      <th></th>\n",
       "      <th>City</th>\n",
       "    </tr>\n",
       "  </thead>\n",
       "  <tbody>\n",
       "    <tr>\n",
       "      <th>0</th>\n",
       "      <td>New York</td>\n",
       "    </tr>\n",
       "    <tr>\n",
       "      <th>1</th>\n",
       "      <td>Paris</td>\n",
       "    </tr>\n",
       "    <tr>\n",
       "      <th>2</th>\n",
       "      <td>Berlin</td>\n",
       "    </tr>\n",
       "    <tr>\n",
       "      <th>3</th>\n",
       "      <td>Paris</td>\n",
       "    </tr>\n",
       "    <tr>\n",
       "      <th>4</th>\n",
       "      <td>Berlin</td>\n",
       "    </tr>\n",
       "    <tr>\n",
       "      <th>5</th>\n",
       "      <td>New York</td>\n",
       "    </tr>\n",
       "  </tbody>\n",
       "</table>\n",
       "</div>"
      ],
      "text/plain": [
       "       City\n",
       "0  New York\n",
       "1     Paris\n",
       "2    Berlin\n",
       "3     Paris\n",
       "4    Berlin\n",
       "5  New York"
      ]
     },
     "execution_count": 2,
     "metadata": {},
     "output_type": "execute_result"
    }
   ],
   "source": [
    "# Create a sample dataset with a categorical column\n",
    "data = {'City': ['New York', 'Paris', 'Berlin', 'Paris', 'Berlin', 'New York']}\n",
    "df = pd.DataFrame(data)\n",
    "\n",
    "# Display the original dataset\n",
    "df"
   ]
  },
  {
   "cell_type": "markdown",
   "id": "c85e21dd6e61a0ba",
   "metadata": {},
   "source": [
    "### ⚙️ Apply LabelEncoder\n",
    "LabelEncoder converts text labels into integers — useful for encoding target variables or ordinal features."
   ]
  },
  {
   "cell_type": "code",
   "execution_count": 3,
   "id": "64934a5f1f494cee",
   "metadata": {
    "ExecuteTime": {
     "end_time": "2025-07-12T19:49:42.115888Z",
     "start_time": "2025-07-12T19:49:42.109068Z"
    }
   },
   "outputs": [
    {
     "data": {
      "text/html": [
       "<div>\n",
       "<style scoped>\n",
       "    .dataframe tbody tr th:only-of-type {\n",
       "        vertical-align: middle;\n",
       "    }\n",
       "\n",
       "    .dataframe tbody tr th {\n",
       "        vertical-align: top;\n",
       "    }\n",
       "\n",
       "    .dataframe thead th {\n",
       "        text-align: right;\n",
       "    }\n",
       "</style>\n",
       "<table border=\"1\" class=\"dataframe\">\n",
       "  <thead>\n",
       "    <tr style=\"text-align: right;\">\n",
       "      <th></th>\n",
       "      <th>City</th>\n",
       "      <th>City_encoded</th>\n",
       "    </tr>\n",
       "  </thead>\n",
       "  <tbody>\n",
       "    <tr>\n",
       "      <th>0</th>\n",
       "      <td>New York</td>\n",
       "      <td>1</td>\n",
       "    </tr>\n",
       "    <tr>\n",
       "      <th>1</th>\n",
       "      <td>Paris</td>\n",
       "      <td>2</td>\n",
       "    </tr>\n",
       "    <tr>\n",
       "      <th>2</th>\n",
       "      <td>Berlin</td>\n",
       "      <td>0</td>\n",
       "    </tr>\n",
       "    <tr>\n",
       "      <th>3</th>\n",
       "      <td>Paris</td>\n",
       "      <td>2</td>\n",
       "    </tr>\n",
       "    <tr>\n",
       "      <th>4</th>\n",
       "      <td>Berlin</td>\n",
       "      <td>0</td>\n",
       "    </tr>\n",
       "    <tr>\n",
       "      <th>5</th>\n",
       "      <td>New York</td>\n",
       "      <td>1</td>\n",
       "    </tr>\n",
       "  </tbody>\n",
       "</table>\n",
       "</div>"
      ],
      "text/plain": [
       "       City  City_encoded\n",
       "0  New York             1\n",
       "1     Paris             2\n",
       "2    Berlin             0\n",
       "3     Paris             2\n",
       "4    Berlin             0\n",
       "5  New York             1"
      ]
     },
     "execution_count": 3,
     "metadata": {},
     "output_type": "execute_result"
    }
   ],
   "source": [
    "# Initialize the encoder\n",
    "le = LabelEncoder()\n",
    "\n",
    "# Apply encoding on the 'City' column\n",
    "df['City_encoded'] = le.fit_transform(df['City'])\n",
    "\n",
    "# Display the DataFrame with encoded values\n",
    "df"
   ]
  },
  {
   "cell_type": "code",
   "execution_count": 4,
   "id": "d77de24bc366deeb",
   "metadata": {
    "ExecuteTime": {
     "end_time": "2025-07-12T19:49:45.518131Z",
     "start_time": "2025-07-12T19:49:45.514831Z"
    }
   },
   "outputs": [
    {
     "name": "stdout",
     "output_type": "stream",
     "text": [
      "Label Mapping: {'Berlin': np.int64(0), 'New York': np.int64(1), 'Paris': np.int64(2)}\n"
     ]
    }
   ],
   "source": [
    "# View the mapping of labels to encoded values\n",
    "label_map = dict(zip(le.classes_, le.transform(le.classes_)))\n",
    "print(\"Label Mapping:\", label_map)"
   ]
  },
  {
   "cell_type": "markdown",
   "id": "e3fe2d77b805b5f7",
   "metadata": {},
   "source": [
    "> 🧾 **Note**:\n",
    "If you’re seeing values like `np.int64(0)` instead of plain `0`, that’s completely normal.\n",
    "It just means the integers are stored as **NumPy 64-bit integers**, which is common in scikit-learn and NumPy operations.\n",
    "✅ You can safely treat them as regular Python `int` values — they behave the same in most cases."
   ]
  }
 ],
 "metadata": {
  "kernelspec": {
   "display_name": "Python 3 (ipykernel)",
   "language": "python",
   "name": "python3"
  },
  "language_info": {
   "codemirror_mode": {
    "name": "ipython",
    "version": 3
   },
   "file_extension": ".py",
   "mimetype": "text/x-python",
   "name": "python",
   "nbconvert_exporter": "python",
   "pygments_lexer": "ipython3",
   "version": "3.13.5"
  }
 },
 "nbformat": 4,
 "nbformat_minor": 5
}
