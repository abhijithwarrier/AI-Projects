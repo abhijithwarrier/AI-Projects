{
 "cells": [
  {
   "metadata": {
    "collapsed": true
   },
   "cell_type": "markdown",
   "source": [
    "**Programmer:** python_scripts (Abhijith Warrier)\n",
    "\n",
    "**PYTHON SCRIPT TO **_EXPORT & LOAD A TRAINED MODEL USING `joblib`._**. 🐍💾️🤖**\n",
    "\n",
    "This script shows how to **train a model**, save it to disk, and **reload it later** using `joblib`. This is a key step for **deployment** — you don’t want to retrain every time, just save once and reuse."
   ],
   "id": "dd329baaf16cab53"
  },
  {
   "metadata": {},
   "cell_type": "markdown",
   "source": "### 📦 Import Required Libraries",
   "id": "29f3ae334418b1c8"
  },
  {
   "metadata": {},
   "cell_type": "code",
   "outputs": [],
   "execution_count": null,
   "source": [
    "# Data & split\n",
    "from sklearn.datasets import load_iris\n",
    "from sklearn.model_selection import train_test_split\n",
    "\n",
    "# Model\n",
    "from sklearn.linear_model import LogisticRegression\n",
    "\n",
    "# Save/load utility\n",
    "import joblib"
   ],
   "id": "adb04a10d9edd9f0"
  },
  {
   "metadata": {},
   "cell_type": "markdown",
   "source": "### 📥 Load Dataset & Train Model",
   "id": "f1faa778681739e8"
  },
  {
   "metadata": {},
   "cell_type": "code",
   "outputs": [],
   "execution_count": null,
   "source": [
    "# Load the Iris dataset\n",
    "iris = load_iris()\n",
    "X_train, X_test, y_train, y_test = train_test_split(\n",
    "    iris.data, iris.target, test_size=0.2, random_state=42\n",
    ")\n",
    "\n",
    "# Train a Logistic Regression classifier\n",
    "model = LogisticRegression(max_iter=200, random_state=42)\n",
    "model.fit(X_train, y_train)"
   ],
   "id": "66167dbe5d36d404"
  },
  {
   "metadata": {},
   "cell_type": "markdown",
   "source": "### 💾 Save the Trained Model",
   "id": "e9c2fd73ce1cf382"
  },
  {
   "metadata": {},
   "cell_type": "code",
   "outputs": [],
   "execution_count": null,
   "source": [
    "# Save model to disk\n",
    "joblib.dump(model, \"iris_logreg_model.joblib\")\n",
    "print(\"Model saved successfully!\")"
   ],
   "id": "f5bc3f18a341461c"
  },
  {
   "metadata": {},
   "cell_type": "markdown",
   "source": "### 📂 Load the Model Later",
   "id": "813f8e08bd68256f"
  },
  {
   "metadata": {},
   "cell_type": "code",
   "outputs": [],
   "execution_count": null,
   "source": [
    "# Load model back from disk\n",
    "loaded_model = joblib.load(\"iris_logreg_model.joblib\")\n",
    "\n",
    "# Use it for prediction\n",
    "print(\"Predictions on test set:\", loaded_model.predict(X_test[:5]))"
   ],
   "id": "39f40c5ea1bb7547"
  },
  {
   "metadata": {},
   "cell_type": "markdown",
   "source": [
    "✅ Notes\n",
    "- `joblib.dump()` → saves the model.\n",
    "- `joblib.load()` → reloads it instantly.\n",
    "- Works for any scikit-learn model (classifiers, regressors, pipelines).\n",
    "- Essential for deployment, sharing, or reusing ML models."
   ],
   "id": "f613abfb2d5d4149"
  },
  {
   "metadata": {},
   "cell_type": "markdown",
   "source": "",
   "id": "2cebd63012434da2"
  }
 ],
 "metadata": {
  "kernelspec": {
   "display_name": "Python 3",
   "language": "python",
   "name": "python3"
  },
  "language_info": {
   "codemirror_mode": {
    "name": "ipython",
    "version": 2
   },
   "file_extension": ".py",
   "mimetype": "text/x-python",
   "name": "python",
   "nbconvert_exporter": "python",
   "pygments_lexer": "ipython2",
   "version": "2.7.6"
  }
 },
 "nbformat": 4,
 "nbformat_minor": 5
}
