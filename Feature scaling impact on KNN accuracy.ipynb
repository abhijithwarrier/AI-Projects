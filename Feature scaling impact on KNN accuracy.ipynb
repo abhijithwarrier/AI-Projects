{
 "cells": [
  {
   "cell_type": "markdown",
   "id": "9b5d17dfe150d515",
   "metadata": {
    "collapsed": true,
    "jupyter": {
     "outputs_hidden": true
    }
   },
   "source": [
    "**Programmer:** python_scripts (Abhijith Warrier)\n",
    "\n",
    "**PYTHON SCRIPT TO **_DEMONSTRATE THE IMPACT OF FEATURE SCALING ON KNN ACCURACY_**. 🐍📊🤖**\n",
    "\n",
    "This script shows how scaling features can significantly change the accuracy of distance-based algorithms like **K-Nearest Neighbors (KNN)**.\n",
    "We’ll compare model accuracy **before and after scaling** using `StandardScaler`."
   ]
  },
  {
   "cell_type": "markdown",
   "id": "90502b00770ae788",
   "metadata": {},
   "source": [
    "### 📦 Import Required Libraries\n",
    "\n",
    "We’ll use scikit-learn for data preprocessing, modeling, and evaluation."
   ]
  },
  {
   "cell_type": "code",
   "execution_count": 6,
   "id": "4c89855a98dff9c0",
   "metadata": {},
   "outputs": [],
   "source": [
    "from sklearn.datasets import load_wine\n",
    "from sklearn.model_selection import train_test_split\n",
    "from sklearn.preprocessing import StandardScaler\n",
    "from sklearn.neighbors import KNeighborsClassifier\n",
    "from sklearn.metrics import accuracy_score\n",
    "import pandas as pd"
   ]
  },
  {
   "cell_type": "markdown",
   "id": "2b92ab220c625fe9",
   "metadata": {},
   "source": [
    "### 🧩 Load and Split the Dataset\n",
    "\n",
    "We’ll use the Iris dataset and split it into training and testing sets."
   ]
  },
  {
   "cell_type": "code",
   "execution_count": 7,
   "id": "a8540cca5e06bd9a",
   "metadata": {},
   "outputs": [],
   "source": [
    "# Load dataset\n",
    "wine = load_wine()\n",
    "X = wine.data\n",
    "y = wine.target\n",
    "\n",
    "# Split into train and test sets\n",
    "X_train, X_test, y_train, y_test = train_test_split(X, y, test_size=0.3, random_state=42)"
   ]
  },
  {
   "cell_type": "markdown",
   "id": "763cde168257591b",
   "metadata": {},
   "source": [
    "### ⚙️ Train KNN Without Feature Scaling\n",
    "\n",
    "We first train a KNN classifier on the raw, unscaled data."
   ]
  },
  {
   "cell_type": "code",
   "execution_count": 8,
   "id": "33d69f2742687ade",
   "metadata": {},
   "outputs": [
    {
     "name": "stdout",
     "output_type": "stream",
     "text": [
      "Accuracy without scaling: 0.74\n"
     ]
    }
   ],
   "source": [
    "# Train KNN without scaling\n",
    "knn_unscaled = KNeighborsClassifier(n_neighbors=5)\n",
    "knn_unscaled.fit(X_train, y_train)\n",
    "\n",
    "# Predict and evaluate\n",
    "y_pred_unscaled = knn_unscaled.predict(X_test)\n",
    "acc_unscaled = accuracy_score(y_test, y_pred_unscaled)\n",
    "print(f\"Accuracy without scaling: {acc_unscaled:.2f}\")"
   ]
  },
  {
   "cell_type": "markdown",
   "id": "6a4372f57db5f14c",
   "metadata": {},
   "source": [
    "### 🔄 Apply Feature Scaling\n",
    "\n",
    "We standardize features using StandardScaler so that each feature contributes equally to distance calculations."
   ]
  },
  {
   "cell_type": "code",
   "execution_count": 9,
   "id": "71bce021f56dc9e7",
   "metadata": {},
   "outputs": [],
   "source": [
    "# Apply StandardScaler\n",
    "scaler = StandardScaler()\n",
    "X_train_scaled = scaler.fit_transform(X_train)\n",
    "X_test_scaled = scaler.transform(X_test)"
   ]
  },
  {
   "cell_type": "markdown",
   "id": "2c97494413a57cee",
   "metadata": {},
   "source": [
    "### 🧠 Train KNN With Scaled Features\n",
    "\n",
    "Now, train the same KNN classifier on scaled data and compare performance."
   ]
  },
  {
   "cell_type": "code",
   "execution_count": 10,
   "id": "af08aba81b0e6434",
   "metadata": {},
   "outputs": [
    {
     "name": "stdout",
     "output_type": "stream",
     "text": [
      "Accuracy with scaling: 0.96\n"
     ]
    }
   ],
   "source": [
    "# Train KNN with scaled features\n",
    "knn_scaled = KNeighborsClassifier(n_neighbors=5)\n",
    "knn_scaled.fit(X_train_scaled, y_train)\n",
    "\n",
    "# Predict and evaluate\n",
    "y_pred_scaled = knn_scaled.predict(X_test_scaled)\n",
    "acc_scaled = accuracy_score(y_test, y_pred_scaled)\n",
    "print(f\"Accuracy with scaling: {acc_scaled:.2f}\")"
   ]
  },
  {
   "cell_type": "markdown",
   "id": "b44d236ec34ec242",
   "metadata": {},
   "source": [
    "### ✅ Observation\n",
    "\n",
    "You’ll likely see that the scaled model performs better.\n",
    "That’s because KNN relies on distance metrics (e.g., Euclidean), and without scaling, features with larger numeric ranges dominate distance calculations — leading to biased results."
   ]
  },
  {
   "cell_type": "code",
   "execution_count": null,
   "id": "bf7161a4ea331dd3",
   "metadata": {},
   "outputs": [],
   "source": []
  }
 ],
 "metadata": {
  "kernelspec": {
   "display_name": "Python 3 (ipykernel)",
   "language": "python",
   "name": "python3"
  },
  "language_info": {
   "codemirror_mode": {
    "name": "ipython",
    "version": 3
   },
   "file_extension": ".py",
   "mimetype": "text/x-python",
   "name": "python",
   "nbconvert_exporter": "python",
   "pygments_lexer": "ipython3",
   "version": "3.13.5"
  }
 },
 "nbformat": 4,
 "nbformat_minor": 5
}
