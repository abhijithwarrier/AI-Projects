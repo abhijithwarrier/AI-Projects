{
 "cells": [
  {
   "metadata": {},
   "cell_type": "markdown",
   "source": [
    "**Programmer:** python_scripts (Abhijith Warrier)\n",
    "\n",
    "**PYTHON SCRIPT TO DEMONSTRATE HOW TO **FIT YOUR FIRST MACHINE LEARNING MODEL** USING **`LinearRegression`**. 🐍📊🤖**\n",
    "\n",
    "This script demonstrates how to **fit your first machine learning model** using **Linear Regression** from scikit-learn.\n",
    "We’ll train a model to predict `Salary` based on `YearsExperience`.\n",
    "\n",
    "📌 **Linear Regression** finds the best-fitting line through data points, making it a great starting point for regression tasks."
   ],
   "id": "7defd7ec2bb1c733"
  },
  {
   "metadata": {
    "ExecuteTime": {
     "end_time": "2025-07-28T10:36:33.358601Z",
     "start_time": "2025-07-28T10:36:32.545646Z"
    }
   },
   "cell_type": "code",
   "source": [
    "### 1. Import Required\n",
    "import pandas as pd\n",
    "import numpy as np\n",
    "from sklearn.linear_model import LinearRegression\n",
    "import matplotlib.pyplot as plt"
   ],
   "id": "6c644e22ce67ac04",
   "outputs": [],
   "execution_count": 2
  },
  {
   "metadata": {},
   "cell_type": "markdown",
   "source": "### 2. Create a Sample Dataset",
   "id": "60d67dfe0d210aa8"
  },
  {
   "metadata": {
    "ExecuteTime": {
     "end_time": "2025-07-28T10:37:09.978958Z",
     "start_time": "2025-07-28T10:37:09.961726Z"
    }
   },
   "cell_type": "code",
   "source": [
    "# Create a simple dataset\n",
    "data = {\n",
    "    'YearsExperience': [1, 2, 3, 4, 5, 6],\n",
    "    'Salary': [35000, 40000, 50000, 60000, 65000, 70000]\n",
    "}\n",
    "df = pd.DataFrame(data)\n",
    "df"
   ],
   "id": "6deaa36f411a50e4",
   "outputs": [
    {
     "data": {
      "text/plain": [
       "   YearsExperience  Salary\n",
       "0                1   35000\n",
       "1                2   40000\n",
       "2                3   50000\n",
       "3                4   60000\n",
       "4                5   65000\n",
       "5                6   70000"
      ],
      "text/html": [
       "<div>\n",
       "<style scoped>\n",
       "    .dataframe tbody tr th:only-of-type {\n",
       "        vertical-align: middle;\n",
       "    }\n",
       "\n",
       "    .dataframe tbody tr th {\n",
       "        vertical-align: top;\n",
       "    }\n",
       "\n",
       "    .dataframe thead th {\n",
       "        text-align: right;\n",
       "    }\n",
       "</style>\n",
       "<table border=\"1\" class=\"dataframe\">\n",
       "  <thead>\n",
       "    <tr style=\"text-align: right;\">\n",
       "      <th></th>\n",
       "      <th>YearsExperience</th>\n",
       "      <th>Salary</th>\n",
       "    </tr>\n",
       "  </thead>\n",
       "  <tbody>\n",
       "    <tr>\n",
       "      <th>0</th>\n",
       "      <td>1</td>\n",
       "      <td>35000</td>\n",
       "    </tr>\n",
       "    <tr>\n",
       "      <th>1</th>\n",
       "      <td>2</td>\n",
       "      <td>40000</td>\n",
       "    </tr>\n",
       "    <tr>\n",
       "      <th>2</th>\n",
       "      <td>3</td>\n",
       "      <td>50000</td>\n",
       "    </tr>\n",
       "    <tr>\n",
       "      <th>3</th>\n",
       "      <td>4</td>\n",
       "      <td>60000</td>\n",
       "    </tr>\n",
       "    <tr>\n",
       "      <th>4</th>\n",
       "      <td>5</td>\n",
       "      <td>65000</td>\n",
       "    </tr>\n",
       "    <tr>\n",
       "      <th>5</th>\n",
       "      <td>6</td>\n",
       "      <td>70000</td>\n",
       "    </tr>\n",
       "  </tbody>\n",
       "</table>\n",
       "</div>"
      ]
     },
     "execution_count": 4,
     "metadata": {},
     "output_type": "execute_result"
    }
   ],
   "execution_count": 4
  },
  {
   "metadata": {},
   "cell_type": "markdown",
   "source": "### 3. Split Features and Target",
   "id": "476c721c60267bbf"
  },
  {
   "metadata": {
    "ExecuteTime": {
     "end_time": "2025-07-28T10:37:25.451066Z",
     "start_time": "2025-07-28T10:37:25.448099Z"
    }
   },
   "cell_type": "code",
   "source": [
    "X = df[['YearsExperience']]  # Features (2D array)\n",
    "y = df['Salary']  # Target"
   ],
   "id": "2c9e9b4c395cd891",
   "outputs": [],
   "execution_count": 5
  },
  {
   "metadata": {},
   "cell_type": "markdown",
   "source": "### 4. Initialize and Train the Linear Regression Model",
   "id": "bf4e790f3c18133d"
  },
  {
   "metadata": {
    "ExecuteTime": {
     "end_time": "2025-07-28T10:37:39.210465Z",
     "start_time": "2025-07-28T10:37:39.197693Z"
    }
   },
   "cell_type": "code",
   "source": [
    "model = LinearRegression()\n",
    "model.fit(X, y)\n",
    "\n",
    "print(\"Coefficient (Slope):\", model.coef_[0])\n",
    "print(\"Intercept:\", model.intercept_)"
   ],
   "id": "94528e1bbb23023b",
   "outputs": [
    {
     "name": "stdout",
     "output_type": "stream",
     "text": [
      "Coefficient (Slope): 7428.571428571428\n",
      "Intercept: 27333.333333333336\n"
     ]
    }
   ],
   "execution_count": 6
  },
  {
   "metadata": {},
   "cell_type": "markdown",
   "source": "### 5. Predict and Visualize the Results",
   "id": "23c59ff98c6791c8"
  },
  {
   "metadata": {
    "ExecuteTime": {
     "end_time": "2025-07-28T10:41:28.904685Z",
     "start_time": "2025-07-28T10:41:28.755573Z"
    }
   },
   "cell_type": "code",
   "source": [
    "# Make predictions\n",
    "y_pred = model.predict(X)\n",
    "\n",
    "# Plot data points and regression line\n",
    "plt.scatter(X, y, color='blue', label='Actual data')\n",
    "plt.plot(X, y_pred, color='red', label='Regression line')\n",
    "plt.xlabel(\"Years of Experience\")\n",
    "plt.ylabel(\"Salary\")\n",
    "plt.title(\"Linear Regression Model\")\n",
    "plt.legend()\n",
    "plt.show()"
   ],
   "id": "9a25fd9d23df5e70",
   "outputs": [
    {
     "data": {
      "text/plain": [
       "<Figure size 640x480 with 1 Axes>"
      ],
      "image/png": "[encoded data removed]"
     },
     "metadata": {},
     "output_type": "display_data"
    }
   ],
   "execution_count": 8
  },
  {
   "metadata": {},
   "cell_type": "markdown",
   "source": [
    "> ✅ **Quick Tip**:\n",
    "Linear regression assumes:\n",
    "- A linear relationship between features and target\n",
    "- Residual errors are normally distributed\n",
    "- Homoscedasticity (equal variance of residuals)\n",
    "\n",
    "This model is often the **first step** when starting with ML."
   ],
   "id": "9937e6b6302b93bb"
  },
  {
   "metadata": {},
   "cell_type": "code",
   "outputs": [],
   "execution_count": null,
   "source": "",
   "id": "b18ab9e51ea0b860"
  }
 ],
 "metadata": {
  "kernelspec": {
   "display_name": "Python 3",
   "language": "python",
   "name": "python3"
  },
  "language_info": {
   "codemirror_mode": {
    "name": "ipython",
    "version": 2
   },
   "file_extension": ".py",
   "mimetype": "text/x-python",
   "name": "python",
   "nbconvert_exporter": "python",
   "pygments_lexer": "ipython2",
   "version": "2.7.6"
  }
 },
 "nbformat": 4,
 "nbformat_minor": 5
}
