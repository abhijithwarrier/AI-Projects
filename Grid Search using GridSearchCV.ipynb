{
 "cells": [
  {
   "metadata": {
    "collapsed": true
   },
   "cell_type": "markdown",
   "source": [
    "**Programmer:** python_scripts (Abhijith Warrier)\n",
    "\n",
    "**PYTHON SCRIPT TO **_PERFORM HYPERPARAMETER TUNING WITH GridSearchCV_**. 🐍🤖🔍**\n",
    "\n",
    "This script shows how to use Grid Search with cross-validation to find the best hyperparameters for an SVM classifier on the Iris dataset, and then evaluate it on a held-out test set."
   ],
   "id": "6847913324a20d29"
  },
  {
   "metadata": {},
   "cell_type": "markdown",
   "source": [
    "### 📦 Import Required Libraries\n",
    "\n",
    "We’ll use scikit-learn for data loading, modeling, and grid search; and numpy for basic stats."
   ],
   "id": "89aec317142e3af4"
  },
  {
   "metadata": {
    "ExecuteTime": {
     "end_time": "2025-08-22T17:23:00.281792Z",
     "start_time": "2025-08-22T17:22:58.984634Z"
    }
   },
   "cell_type": "code",
   "source": [
    "# Import data utilities, model, and grid search tools\n",
    "from sklearn.datasets import load_iris\n",
    "from sklearn.model_selection import train_test_split, GridSearchCV\n",
    "from sklearn.svm import SVC\n",
    "import numpy as np"
   ],
   "id": "28e31cde040aefb9",
   "outputs": [],
   "execution_count": 2
  },
  {
   "metadata": {},
   "cell_type": "markdown",
   "source": [
    "### 📥 Load Dataset & Create Train/Test Split\n",
    "\n",
    "We keep a separate test set to evaluate the best-found model on unseen data."
   ],
   "id": "de31e2087e01b3e0"
  },
  {
   "metadata": {
    "ExecuteTime": {
     "end_time": "2025-08-22T17:23:01.644900Z",
     "start_time": "2025-08-22T17:23:01.636638Z"
    }
   },
   "cell_type": "code",
   "source": [
    "# Load the Iris dataset\n",
    "iris = load_iris()\n",
    "X, y = iris.data, iris.target\n",
    "\n",
    "# Create a hold-out test set for final evaluation\n",
    "X_train, X_test, y_train, y_test = train_test_split(\n",
    "    X, y, test_size=0.25, random_state=42, stratify=y\n",
    ")"
   ],
   "id": "3a1d6f1df6b5c991",
   "outputs": [],
   "execution_count": 3
  },
  {
   "metadata": {},
   "cell_type": "markdown",
   "source": [
    "### 🧠 Define the Base Model & Parameter Grid\n",
    "\n",
    "We’ll tune C (regularization strength) and gamma (RBF kernel width).\n",
    "Grid values are deliberately small to keep the run fast."
   ],
   "id": "161d3b10aff9c2df"
  },
  {
   "metadata": {
    "ExecuteTime": {
     "end_time": "2025-08-22T17:23:03.192880Z",
     "start_time": "2025-08-22T17:23:03.189549Z"
    }
   },
   "cell_type": "code",
   "source": [
    "# Base model: Support Vector Classifier with RBF kernel\n",
    "svc = SVC(kernel=\"rbf\", probability=False)\n",
    "\n",
    "# Parameter grid to search over\n",
    "param_grid = {\n",
    "    \"C\": [0.1, 1, 10],\n",
    "    \"gamma\": [\"scale\", 0.1, 0.01, 0.001]\n",
    "}"
   ],
   "id": "4121324f1bcc6279",
   "outputs": [],
   "execution_count": 4
  },
  {
   "metadata": {},
   "cell_type": "markdown",
   "source": [
    "### 🔄 Set Up GridSearchCV\n",
    "\n",
    "We use 5-fold cross-validation. n_jobs=-1 uses all CPU cores (if available)."
   ],
   "id": "963ca376397dc001"
  },
  {
   "metadata": {
    "ExecuteTime": {
     "end_time": "2025-08-22T17:23:04.881417Z",
     "start_time": "2025-08-22T17:23:04.878314Z"
    }
   },
   "cell_type": "code",
   "source": [
    "# Grid search with cross-validation\n",
    "grid = GridSearchCV(\n",
    "    estimator=svc,\n",
    "    param_grid=param_grid,\n",
    "    scoring=\"accuracy\",\n",
    "    cv=5,\n",
    "    n_jobs=-1,\n",
    "    refit=True,          # Refit best model on the whole training set\n",
    "    return_train_score=False\n",
    ")"
   ],
   "id": "67064513b4f20894",
   "outputs": [],
   "execution_count": 5
  },
  {
   "metadata": {},
   "cell_type": "markdown",
   "source": [
    "### 🚀 Run the Search\n",
    "\n",
    "Fit the grid search on training data; it will try every param combination with CV."
   ],
   "id": "a0c94179fde0b9d7"
  },
  {
   "metadata": {
    "ExecuteTime": {
     "end_time": "2025-08-22T17:23:08.418314Z",
     "start_time": "2025-08-22T17:23:06.614602Z"
    }
   },
   "cell_type": "code",
   "source": [
    "# Execute the grid search\n",
    "grid.fit(X_train, y_train)\n",
    "\n",
    "# Show the best mean CV score and the corresponding parameters\n",
    "print(\"Best CV Accuracy:\", round(grid.best_score_, 4))\n",
    "print(\"Best Params:\", grid.best_params_)"
   ],
   "id": "855bd3e0bd1fa808",
   "outputs": [
    {
     "name": "stdout",
     "output_type": "stream",
     "text": [
      "Best CV Accuracy: 0.9727\n",
      "Best Params: {'C': 10, 'gamma': 0.1}\n"
     ]
    }
   ],
   "execution_count": 6
  },
  {
   "metadata": {},
   "cell_type": "markdown",
   "source": [
    "### 🧪 Evaluate the Best Model on Test Set\n",
    "\n",
    "Use the best estimator discovered by the grid search to measure real performance."
   ],
   "id": "fe313b749c6c14e"
  },
  {
   "metadata": {
    "ExecuteTime": {
     "end_time": "2025-08-22T17:23:10.560116Z",
     "start_time": "2025-08-22T17:23:10.554321Z"
    }
   },
   "cell_type": "code",
   "source": [
    "# Evaluate the best model on the held-out test set\n",
    "best_model = grid.best_estimator_\n",
    "test_acc = best_model.score(X_test, y_test)\n",
    "print(\"Test Accuracy with Best Params:\", round(test_acc, 4))"
   ],
   "id": "c36782a63186e53d",
   "outputs": [
    {
     "name": "stdout",
     "output_type": "stream",
     "text": [
      "Test Accuracy with Best Params: 0.9474\n"
     ]
    }
   ],
   "execution_count": 7
  },
  {
   "metadata": {},
   "cell_type": "markdown",
   "source": [
    "### ✅ (Optional) Inspect CV Scores Across the Grid\n",
    "\n",
    "It’s often useful to see how different hyperparameters performed."
   ],
   "id": "fc5f6b37967b3d1c"
  },
  {
   "metadata": {
    "ExecuteTime": {
     "end_time": "2025-08-22T17:23:13.130270Z",
     "start_time": "2025-08-22T17:23:13.125771Z"
    }
   },
   "cell_type": "code",
   "source": [
    "# Optional: peek at all candidates and their mean CV score\n",
    "mean_scores = grid.cv_results_[\"mean_test_score\"]\n",
    "params_list = grid.cv_results_[\"params\"]\n",
    "\n",
    "for p, s in zip(params_list, mean_scores):\n",
    "    print(f\"{p} -> {s:.4f}\")"
   ],
   "id": "272647399ec9afaa",
   "outputs": [
    {
     "name": "stdout",
     "output_type": "stream",
     "text": [
      "{'C': 0.1, 'gamma': 'scale'} -> 0.8569\n",
      "{'C': 0.1, 'gamma': 0.1} -> 0.9111\n",
      "{'C': 0.1, 'gamma': 0.01} -> 0.6791\n",
      "{'C': 0.1, 'gamma': 0.001} -> 0.5518\n",
      "{'C': 1, 'gamma': 'scale'} -> 0.9375\n",
      "{'C': 1, 'gamma': 0.1} -> 0.9549\n",
      "{'C': 1, 'gamma': 0.01} -> 0.9016\n",
      "{'C': 1, 'gamma': 0.001} -> 0.6791\n",
      "{'C': 10, 'gamma': 'scale'} -> 0.9640\n",
      "{'C': 10, 'gamma': 0.1} -> 0.9727\n",
      "{'C': 10, 'gamma': 0.01} -> 0.9549\n",
      "{'C': 10, 'gamma': 0.001} -> 0.9107\n"
     ]
    }
   ],
   "execution_count": 8
  },
  {
   "metadata": {},
   "cell_type": "code",
   "outputs": [],
   "execution_count": null,
   "source": "",
   "id": "bd1d8e255d85d6cf"
  }
 ],
 "metadata": {
  "kernelspec": {
   "display_name": "Python 3",
   "language": "python",
   "name": "python3"
  },
  "language_info": {
   "codemirror_mode": {
    "name": "ipython",
    "version": 2
   },
   "file_extension": ".py",
   "mimetype": "text/x-python",
   "name": "python",
   "nbconvert_exporter": "python",
   "pygments_lexer": "ipython2",
   "version": "2.7.6"
  }
 },
 "nbformat": 4,
 "nbformat_minor": 5
}
