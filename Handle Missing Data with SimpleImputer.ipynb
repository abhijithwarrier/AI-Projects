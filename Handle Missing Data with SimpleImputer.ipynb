{
 "cells": [
  {
   "cell_type": "code",
   "execution_count": 1,
   "id": "2731bba9fccb9cb8",
   "metadata": {
    "ExecuteTime": {
     "end_time": "2025-07-16T15:50:44.012220Z",
     "start_time": "2025-07-16T15:50:39.995979Z"
    }
   },
   "outputs": [],
   "source": [
    "# Import SimpleImputer to handle missing values\n",
    "# Import pandas to create and display the dataset\n",
    "from sklearn.impute import SimpleImputer\n",
    "import pandas as pd"
   ]
  },
  {
   "cell_type": "markdown",
   "id": "1ba74237fa6f080a",
   "metadata": {},
   "source": [
    "### 📊 Sample Data with Missing Values\n",
    "We'll create a DataFrame with NaN values to demonstrate how imputation works."
   ]
  },
  {
   "cell_type": "code",
   "execution_count": 2,
   "id": "9b83aed320281cf1",
   "metadata": {
    "ExecuteTime": {
     "end_time": "2025-07-16T15:50:46.296914Z",
     "start_time": "2025-07-16T15:50:46.287720Z"
    }
   },
   "outputs": [
    {
     "data": {
      "text/html": [
       "<div>\n",
       "<style scoped>\n",
       "    .dataframe tbody tr th:only-of-type {\n",
       "        vertical-align: middle;\n",
       "    }\n",
       "\n",
       "    .dataframe tbody tr th {\n",
       "        vertical-align: top;\n",
       "    }\n",
       "\n",
       "    .dataframe thead th {\n",
       "        text-align: right;\n",
       "    }\n",
       "</style>\n",
       "<table border=\"1\" class=\"dataframe\">\n",
       "  <thead>\n",
       "    <tr style=\"text-align: right;\">\n",
       "      <th></th>\n",
       "      <th>Age</th>\n",
       "      <th>Salary</th>\n",
       "    </tr>\n",
       "  </thead>\n",
       "  <tbody>\n",
       "    <tr>\n",
       "      <th>0</th>\n",
       "      <td>25.0</td>\n",
       "      <td>50000.0</td>\n",
       "    </tr>\n",
       "    <tr>\n",
       "      <th>1</th>\n",
       "      <td>30.0</td>\n",
       "      <td>NaN</td>\n",
       "    </tr>\n",
       "    <tr>\n",
       "      <th>2</th>\n",
       "      <td>NaN</td>\n",
       "      <td>60000.0</td>\n",
       "    </tr>\n",
       "    <tr>\n",
       "      <th>3</th>\n",
       "      <td>45.0</td>\n",
       "      <td>80000.0</td>\n",
       "    </tr>\n",
       "    <tr>\n",
       "      <th>4</th>\n",
       "      <td>50.0</td>\n",
       "      <td>NaN</td>\n",
       "    </tr>\n",
       "  </tbody>\n",
       "</table>\n",
       "</div>"
      ],
      "text/plain": [
       "    Age   Salary\n",
       "0  25.0  50000.0\n",
       "1  30.0      NaN\n",
       "2   NaN  60000.0\n",
       "3  45.0  80000.0\n",
       "4  50.0      NaN"
      ]
     },
     "execution_count": 2,
     "metadata": {},
     "output_type": "execute_result"
    }
   ],
   "source": [
    "# Create a dataset with some missing values (NaN)\n",
    "data = {\n",
    "    'Age': [25, 30, None, 45, 50],\n",
    "    'Salary': [50000, None, 60000, 80000, None]\n",
    "}\n",
    "\n",
    "df = pd.DataFrame(data)\n",
    "df"
   ]
  },
  {
   "cell_type": "markdown",
   "id": "ad2e8fddb5dba80f",
   "metadata": {},
   "source": [
    "### ⚙️ Apply SimpleImputer\n",
    "We'll use the \"mean\" strategy to fill missing values.\n",
    "Other options include:\n",
    "- \"median\"\n",
    "- \"most_frequent\"\n",
    "- \"constant\""
   ]
  },
  {
   "cell_type": "code",
   "execution_count": 3,
   "id": "9d90a5f8934409ff",
   "metadata": {
    "ExecuteTime": {
     "end_time": "2025-07-16T15:50:49.574665Z",
     "start_time": "2025-07-16T15:50:49.569506Z"
    }
   },
   "outputs": [],
   "source": [
    "# Initialize the SimpleImputer with mean strategy\n",
    "imputer = SimpleImputer(strategy='mean')\n",
    "\n",
    "# Fit and transform the data\n",
    "imputed_array = imputer.fit_transform(df)"
   ]
  },
  {
   "cell_type": "code",
   "execution_count": 4,
   "id": "6a09e904c509d8ea",
   "metadata": {
    "ExecuteTime": {
     "end_time": "2025-07-16T15:50:51.679093Z",
     "start_time": "2025-07-16T15:50:51.673351Z"
    }
   },
   "outputs": [
    {
     "data": {
      "text/html": [
       "<div>\n",
       "<style scoped>\n",
       "    .dataframe tbody tr th:only-of-type {\n",
       "        vertical-align: middle;\n",
       "    }\n",
       "\n",
       "    .dataframe tbody tr th {\n",
       "        vertical-align: top;\n",
       "    }\n",
       "\n",
       "    .dataframe thead th {\n",
       "        text-align: right;\n",
       "    }\n",
       "</style>\n",
       "<table border=\"1\" class=\"dataframe\">\n",
       "  <thead>\n",
       "    <tr style=\"text-align: right;\">\n",
       "      <th></th>\n",
       "      <th>Age</th>\n",
       "      <th>Salary</th>\n",
       "    </tr>\n",
       "  </thead>\n",
       "  <tbody>\n",
       "    <tr>\n",
       "      <th>0</th>\n",
       "      <td>25.0</td>\n",
       "      <td>50000.000000</td>\n",
       "    </tr>\n",
       "    <tr>\n",
       "      <th>1</th>\n",
       "      <td>30.0</td>\n",
       "      <td>63333.333333</td>\n",
       "    </tr>\n",
       "    <tr>\n",
       "      <th>2</th>\n",
       "      <td>37.5</td>\n",
       "      <td>60000.000000</td>\n",
       "    </tr>\n",
       "    <tr>\n",
       "      <th>3</th>\n",
       "      <td>45.0</td>\n",
       "      <td>80000.000000</td>\n",
       "    </tr>\n",
       "    <tr>\n",
       "      <th>4</th>\n",
       "      <td>50.0</td>\n",
       "      <td>63333.333333</td>\n",
       "    </tr>\n",
       "  </tbody>\n",
       "</table>\n",
       "</div>"
      ],
      "text/plain": [
       "    Age        Salary\n",
       "0  25.0  50000.000000\n",
       "1  30.0  63333.333333\n",
       "2  37.5  60000.000000\n",
       "3  45.0  80000.000000\n",
       "4  50.0  63333.333333"
      ]
     },
     "execution_count": 4,
     "metadata": {},
     "output_type": "execute_result"
    }
   ],
   "source": [
    "# Convert the imputed NumPy array back to a DataFrame\n",
    "# Use the original column names\n",
    "imputed_df = pd.DataFrame(imputed_array, columns=df.columns)\n",
    "imputed_df"
   ]
  },
  {
   "cell_type": "code",
   "execution_count": 5,
   "id": "9f30dee6bbd07f04",
   "metadata": {
    "ExecuteTime": {
     "end_time": "2025-07-16T15:50:53.480210Z",
     "start_time": "2025-07-16T15:50:53.474440Z"
    }
   },
   "outputs": [
    {
     "name": "stdout",
     "output_type": "stream",
     "text": [
      "Original Data (with NaNs):\n",
      "    Age   Salary\n",
      "0  25.0  50000.0\n",
      "1  30.0      NaN\n",
      "2   NaN  60000.0\n",
      "3  45.0  80000.0\n",
      "4  50.0      NaN\n",
      "\n",
      "Imputed Data (filled using mean):\n",
      "    Age        Salary\n",
      "0  25.0  50000.000000\n",
      "1  30.0  63333.333333\n",
      "2  37.5  60000.000000\n",
      "3  45.0  80000.000000\n",
      "4  50.0  63333.333333\n"
     ]
    }
   ],
   "source": [
    "print(\"Original Data (with NaNs):\")\n",
    "print(df)\n",
    "\n",
    "print(\"\\nImputed Data (filled using mean):\")\n",
    "print(imputed_df)"
   ]
  },
  {
   "cell_type": "markdown",
   "id": "dae1dda2f9b16044",
   "metadata": {},
   "source": [
    "💡 Always handle missing values **before training your models**.\n",
    "Unfilled NaNs can cause most ML algorithms to crash or behave unpredictably.\n",
    "Choose the right imputation strategy based on the data distribution and domain knowledge."
   ]
  },
  {
   "cell_type": "code",
   "execution_count": null,
   "id": "f0c098cfed4d6d",
   "metadata": {},
   "outputs": [],
   "source": []
  }
 ],
 "metadata": {
  "kernelspec": {
   "display_name": "Python 3 (ipykernel)",
   "language": "python",
   "name": "python3"
  },
  "language_info": {
   "codemirror_mode": {
    "name": "ipython",
    "version": 3
   },
   "file_extension": ".py",
   "mimetype": "text/x-python",
   "name": "python",
   "nbconvert_exporter": "python",
   "pygments_lexer": "ipython3",
   "version": "3.13.5"
  }
 },
 "nbformat": 4,
 "nbformat_minor": 5
}
