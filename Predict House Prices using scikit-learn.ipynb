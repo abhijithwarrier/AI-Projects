{
 "cells": [
  {
   "cell_type": "markdown",
   "id": "c5828fe7954f5423",
   "metadata": {},
   "source": [
    "**Programmer:** python_scripts (Abhijith Warrier)\n",
    "\n",
    "**PYTHON SCRIPT TO DEMONSTRATE HOW TO **PREDICT HOUSE PRICES** USING **`scikit-learn`** USING SAMPLE DATA**. 🐍📊🤖**\n",
    "\n",
    "This script demonstrates how to **predict house prices** based on multiple features using **Linear Regression** from scikit-learn.\n",
    "We’ll use a **sample dataset** with features like:\n",
    "- `SquareFootage`\n",
    "- `Bedrooms`\n",
    "- `Age of the house`\n",
    "\n",
    "📌 **Goal:** Predict house price based on these features."
   ]
  },
  {
   "cell_type": "markdown",
   "id": "4d781286fe678c34",
   "metadata": {},
   "source": [
    "### 1. Import Required"
   ]
  },
  {
   "cell_type": "code",
   "execution_count": 1,
   "id": "ec90c7be556cdb08",
   "metadata": {
    "ExecuteTime": {
     "end_time": "2025-07-28T11:14:38.513800Z",
     "start_time": "2025-07-28T11:14:38.508029Z"
    }
   },
   "outputs": [],
   "source": [
    "import pandas as pd\n",
    "import matplotlib.pyplot as plt\n",
    "from sklearn.linear_model import LinearRegression"
   ]
  },
  {
   "cell_type": "markdown",
   "id": "a76f212c92729a9c",
   "metadata": {},
   "source": [
    "### 2. Create a Sample Dataset"
   ]
  },
  {
   "cell_type": "code",
   "execution_count": 2,
   "id": "cf2f20f4128c840f",
   "metadata": {
    "ExecuteTime": {
     "end_time": "2025-07-28T11:14:41.760062Z",
     "start_time": "2025-07-28T11:14:41.748803Z"
    }
   },
   "outputs": [
    {
     "data": {
      "text/html": [
       "<div>\n",
       "<style scoped>\n",
       "    .dataframe tbody tr th:only-of-type {\n",
       "        vertical-align: middle;\n",
       "    }\n",
       "\n",
       "    .dataframe tbody tr th {\n",
       "        vertical-align: top;\n",
       "    }\n",
       "\n",
       "    .dataframe thead th {\n",
       "        text-align: right;\n",
       "    }\n",
       "</style>\n",
       "<table border=\"1\" class=\"dataframe\">\n",
       "  <thead>\n",
       "    <tr style=\"text-align: right;\">\n",
       "      <th></th>\n",
       "      <th>SquareFootage</th>\n",
       "      <th>Bedrooms</th>\n",
       "      <th>Age</th>\n",
       "      <th>Price</th>\n",
       "    </tr>\n",
       "  </thead>\n",
       "  <tbody>\n",
       "    <tr>\n",
       "      <th>0</th>\n",
       "      <td>1500</td>\n",
       "      <td>3</td>\n",
       "      <td>10</td>\n",
       "      <td>400000</td>\n",
       "    </tr>\n",
       "    <tr>\n",
       "      <th>1</th>\n",
       "      <td>1800</td>\n",
       "      <td>4</td>\n",
       "      <td>5</td>\n",
       "      <td>500000</td>\n",
       "    </tr>\n",
       "    <tr>\n",
       "      <th>2</th>\n",
       "      <td>2400</td>\n",
       "      <td>3</td>\n",
       "      <td>20</td>\n",
       "      <td>600000</td>\n",
       "    </tr>\n",
       "    <tr>\n",
       "      <th>3</th>\n",
       "      <td>3000</td>\n",
       "      <td>5</td>\n",
       "      <td>8</td>\n",
       "      <td>650000</td>\n",
       "    </tr>\n",
       "    <tr>\n",
       "      <th>4</th>\n",
       "      <td>3500</td>\n",
       "      <td>4</td>\n",
       "      <td>2</td>\n",
       "      <td>700000</td>\n",
       "    </tr>\n",
       "  </tbody>\n",
       "</table>\n",
       "</div>"
      ],
      "text/plain": [
       "   SquareFootage  Bedrooms  Age   Price\n",
       "0           1500         3   10  400000\n",
       "1           1800         4    5  500000\n",
       "2           2400         3   20  600000\n",
       "3           3000         5    8  650000\n",
       "4           3500         4    2  700000"
      ]
     },
     "execution_count": 2,
     "metadata": {},
     "output_type": "execute_result"
    }
   ],
   "source": [
    "# Sample dataset\n",
    "data = {\n",
    "    'SquareFootage': [1500, 1800, 2400, 3000, 3500],\n",
    "    'Bedrooms': [3, 4, 3, 5, 4],\n",
    "    'Age': [10, 5, 20, 8, 2],\n",
    "    'Price': [400000, 500000, 600000, 650000, 700000]\n",
    "}\n",
    "\n",
    "df = pd.DataFrame(data)\n",
    "df"
   ]
  },
  {
   "cell_type": "markdown",
   "id": "a3546f5b7c48432c",
   "metadata": {},
   "source": [
    "### 3. Split Features and Target"
   ]
  },
  {
   "cell_type": "code",
   "execution_count": 3,
   "id": "b098301dd8b48e18",
   "metadata": {
    "ExecuteTime": {
     "end_time": "2025-07-28T11:14:43.576293Z",
     "start_time": "2025-07-28T11:14:43.568878Z"
    }
   },
   "outputs": [],
   "source": [
    "# Features (SquareFootage, Bedrooms, Age)\n",
    "X = df[['SquareFootage', 'Bedrooms', 'Age']]\n",
    "\n",
    "# Target (Price)\n",
    "y = df['Price']"
   ]
  },
  {
   "cell_type": "markdown",
   "id": "29e309774ff960f3",
   "metadata": {},
   "source": [
    "### 4. Initialize and Train the Linear Regression Model"
   ]
  },
  {
   "cell_type": "code",
   "execution_count": 4,
   "id": "a5c178a294ce62f4",
   "metadata": {
    "ExecuteTime": {
     "end_time": "2025-07-28T11:14:45.362685Z",
     "start_time": "2025-07-28T11:14:45.358480Z"
    }
   },
   "outputs": [
    {
     "name": "stdout",
     "output_type": "stream",
     "text": [
      "Coefficients: [  139.96905055 16954.18174042  3309.54205502]\n",
      "Intercept: 134263.7475570165\n"
     ]
    }
   ],
   "source": [
    "model = LinearRegression()\n",
    "model.fit(X, y)\n",
    "\n",
    "print(\"Coefficients:\", model.coef_)\n",
    "print(\"Intercept:\", model.intercept_)"
   ]
  },
  {
   "cell_type": "markdown",
   "id": "3c14135d8df70b42",
   "metadata": {},
   "source": [
    "### 5. Predict on New Data"
   ]
  },
  {
   "cell_type": "code",
   "execution_count": 5,
   "id": "41ed6cee5214d161",
   "metadata": {
    "ExecuteTime": {
     "end_time": "2025-07-28T11:14:47.701185Z",
     "start_time": "2025-07-28T11:14:47.696711Z"
    }
   },
   "outputs": [
    {
     "name": "stdout",
     "output_type": "stream",
     "text": [
      "Predicted House Price: $568,550.81\n"
     ]
    },
    {
     "name": "stderr",
     "output_type": "stream",
     "text": [
      "/Library/Frameworks/Python.framework/Versions/3.13/lib/python3.13/site-packages/sklearn/utils/validation.py:2749: UserWarning: X does not have valid feature names, but LinearRegression was fitted with feature names\n",
      "  warnings.warn(\n"
     ]
    }
   ],
   "source": [
    "# New house: 2500 sq.ft, 4 bedrooms, 5 years old\n",
    "new_house = [[2500, 4, 5]]\n",
    "predicted_price = model.predict(new_house)\n",
    "\n",
    "print(f\"Predicted House Price: ${predicted_price[0]:,.2f}\")"
   ]
  },
  {
   "cell_type": "markdown",
   "id": "cfb09cb5712afc59",
   "metadata": {},
   "source": [
    "### 6. Visualize the Result"
   ]
  },
  {
   "cell_type": "code",
   "execution_count": 6,
   "id": "6d5379a8e544398e",
   "metadata": {
    "ExecuteTime": {
     "end_time": "2025-07-28T11:14:54.807794Z",
     "start_time": "2025-07-28T11:14:54.663685Z"
    }
   },
   "outputs": [
    {
     "data": {
      "image/png": "[encoded data removed]",
      "text/plain": [
       "<Figure size 640x480 with 1 Axes>"
      ]
     },
     "metadata": {},
     "output_type": "display_data"
    }
   ],
   "source": [
    "# Predict for training data\n",
    "y_pred = model.predict(X)\n",
    "\n",
    "# Scatter plot for actual vs predicted\n",
    "plt.scatter(y, y_pred, color='blue')\n",
    "plt.plot([y.min(), y.max()], [y.min(), y.max()], color='red', linestyle='--')\n",
    "plt.xlabel(\"Actual Price\")\n",
    "plt.ylabel(\"Predicted Price\")\n",
    "plt.title(\"Actual vs Predicted House Prices\")\n",
    "plt.show()"
   ]
  },
  {
   "cell_type": "markdown",
   "id": "5e324e99d763a26b",
   "metadata": {},
   "source": [
    "> ✅ **Notes**:\n",
    "- Points close to the red line = good predictions\n",
    "- The slope shows how well our model generalizes\n",
    "- For better accuracy, use **more data** and **normalize features**."
   ]
  },
  {
   "cell_type": "markdown",
   "id": "be6b22fa4c2b4b2",
   "metadata": {},
   "source": [
    "> ✅ **Quick Tip**:\n",
    "Linear Regression is widely used for **price prediction problems** in real estate, car sales, and other industries.\n",
    "The model learns **weights for each feature** (e.g., area, bedrooms, age) and predicts price accordingly."
   ]
  },
  {
   "cell_type": "code",
   "execution_count": null,
   "id": "ec097e79-ced0-4913-89c6-04b8154a8aa6",
   "metadata": {},
   "outputs": [],
   "source": []
  }
 ],
 "metadata": {
  "kernelspec": {
   "display_name": "Python 3 (ipykernel)",
   "language": "python",
   "name": "python3"
  },
  "language_info": {
   "codemirror_mode": {
    "name": "ipython",
    "version": 3
   },
   "file_extension": ".py",
   "mimetype": "text/x-python",
   "name": "python",
   "nbconvert_exporter": "python",
   "pygments_lexer": "ipython3",
   "version": "3.13.5"
  }
 },
 "nbformat": 4,
 "nbformat_minor": 5
}
