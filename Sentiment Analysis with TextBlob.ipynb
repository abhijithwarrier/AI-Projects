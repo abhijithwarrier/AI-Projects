{
 "cells": [
  {
   "cell_type": "markdown",
   "id": "f608ee0d1bc4f99c",
   "metadata": {
    "collapsed": true,
    "jupyter": {
     "outputs_hidden": true
    }
   },
   "source": [
    "**Programmer:** python_scripts (Abhijith Warrier)\n",
    "\n",
    "**PYTHON SCRIPT TO **_PERFORM SENTIMENT ANALYSIS WITH TEXTBLOB_**. 🐍📝📈**\n",
    "\n",
    "This script demonstrates how to use TextBlob to quickly analyze the **polarity** (−1 to 1) and **subjectivity** (0 to 1) of text. You’ll see how to process a single sentence and a small batch, and map polarity to labels like **Positive / Neutral / Negative**."
   ]
  },
  {
   "cell_type": "markdown",
   "id": "d68889f23a09aea7",
   "metadata": {},
   "source": [
    "### 📦 Install Required Library\n",
    "\n",
    "We use textblob for simple sentiment analysis without heavy setup."
   ]
  },
  {
   "cell_type": "code",
   "execution_count": 1,
   "id": "1ba3cc63ea3470ff",
   "metadata": {},
   "outputs": [],
   "source": [
    "# Install TextBlob (run in a notebook cell or terminal)\n",
    "# !pip install textblob\n",
    "\n",
    "# Optional: download corpora used by TextBlob (only if you see lookup errors)\n",
    "# !python -m textblob.download_corpora"
   ]
  },
  {
   "cell_type": "markdown",
   "id": "42e96bb986f5dde1",
   "metadata": {},
   "source": [
    "### 🧰 Import and Prepare Sample Texts\n",
    "\n",
    "We’ll analyze a single sentence and a small list to show batch processing."
   ]
  },
  {
   "cell_type": "code",
   "execution_count": 2,
   "id": "39368d2a0cd24d8",
   "metadata": {
    "ExecuteTime": {
     "end_time": "2025-08-26T16:23:22.837972Z",
     "start_time": "2025-08-26T16:23:16.830937Z"
    }
   },
   "outputs": [],
   "source": [
    "from textblob import TextBlob\n",
    "\n",
    "# Sample inputs\n",
    "single_sentence = \"I absolutely love how simple TextBlob makes sentiment analysis!\"\n",
    "texts = [\n",
    "    \"The movie was fantastic and truly inspiring.\",\n",
    "    \"It was okay, nothing special.\",\n",
    "    \"This is the worst service I have ever experienced.\"\n",
    "]"
   ]
  },
  {
   "cell_type": "markdown",
   "id": "79c0f2a0dd77f863",
   "metadata": {},
   "source": [
    "### 📏 Analyze One Sentence (Polarity & Subjectivity)\n",
    "\n",
    "polarity ∈ [−1, 1] (negative → positive), subjectivity ∈ [0, 1] (objective → subjective)."
   ]
  },
  {
   "cell_type": "code",
   "execution_count": 3,
   "id": "af4dfee36efd0967",
   "metadata": {
    "ExecuteTime": {
     "end_time": "2025-08-26T16:23:25.410430Z",
     "start_time": "2025-08-26T16:23:25.370552Z"
    }
   },
   "outputs": [
    {
     "name": "stdout",
     "output_type": "stream",
     "text": [
      "Sentence: I absolutely love how simple TextBlob makes sentiment analysis!\n",
      "Polarity: 0.25\n",
      "Subjectivity: 0.479\n"
     ]
    }
   ],
   "source": [
    "# Create a TextBlob and read sentiment\n",
    "blob = TextBlob(single_sentence)\n",
    "polarity = blob.sentiment.polarity      # how positive/negative\n",
    "subjectivity = blob.sentiment.subjectivity  # how subjective/objective\n",
    "\n",
    "print(\"Sentence:\", single_sentence)\n",
    "print(\"Polarity:\", round(polarity, 3))\n",
    "print(\"Subjectivity:\", round(subjectivity, 3))"
   ]
  },
  {
   "cell_type": "markdown",
   "id": "b323be093c633daa",
   "metadata": {},
   "source": [
    "### 🧮 Helper: Convert Polarity → Label\n",
    "\n",
    "A small utility to map polarity to human-friendly labels."
   ]
  },
  {
   "cell_type": "code",
   "execution_count": 4,
   "id": "85f374664f4e9b00",
   "metadata": {
    "ExecuteTime": {
     "end_time": "2025-08-26T16:23:37.334721Z",
     "start_time": "2025-08-26T16:23:37.330901Z"
    }
   },
   "outputs": [],
   "source": [
    "def polarity_to_label(p, eps=0.05):\n",
    "    \"\"\"\n",
    "    Map polarity score to a label:\n",
    "    - p > +eps → 'Positive'\n",
    "    - p < -eps → 'Negative'\n",
    "    - otherwise → 'Neutral'\n",
    "    \"\"\"\n",
    "    if p > eps:\n",
    "        return \"Positive\"\n",
    "    if p < -eps:\n",
    "        return \"Negative\"\n",
    "    return \"Neutral\""
   ]
  },
  {
   "cell_type": "markdown",
   "id": "929a65828c8e5c20",
   "metadata": {},
   "source": [
    "### 📦 Batch Analysis (Small List)\n",
    "\n",
    "Loop through a few texts and print polarity/subjectivity/label."
   ]
  },
  {
   "cell_type": "code",
   "execution_count": 5,
   "id": "195368d4fb9b0796",
   "metadata": {
    "ExecuteTime": {
     "end_time": "2025-08-26T16:23:39.703982Z",
     "start_time": "2025-08-26T16:23:39.700334Z"
    }
   },
   "outputs": [
    {
     "name": "stdout",
     "output_type": "stream",
     "text": [
      "\n",
      "Text: The movie was fantastic and truly inspiring.\n",
      "Polarity: 0.450  |  Subjectivity: 0.950  |  Label: Positive\n",
      "\n",
      "Text: It was okay, nothing special.\n",
      "Polarity: 0.429  |  Subjectivity: 0.536  |  Label: Positive\n",
      "\n",
      "Text: This is the worst service I have ever experienced.\n",
      "Polarity: -0.100  |  Subjectivity: 0.950  |  Label: Negative\n"
     ]
    }
   ],
   "source": [
    "for t in texts:\n",
    "    p = TextBlob(t).sentiment.polarity\n",
    "    s = TextBlob(t).sentiment.subjectivity\n",
    "    print(f\"\\nText: {t}\")\n",
    "    print(f\"Polarity: {p:.3f}  |  Subjectivity: {s:.3f}  |  Label: {polarity_to_label(p)}\")"
   ]
  },
  {
   "cell_type": "markdown",
   "id": "428305e2caae413f",
   "metadata": {},
   "source": [
    "### ✅Sample Output (May Vary Slightly)\n",
    "\n",
    "```\n",
    "Sentence: I absolutely love how simple TextBlob makes sentiment analysis!\n",
    "Polarity: 0.25\n",
    "Subjectivity: 0.479\n",
    "```\n",
    "---\n",
    "```\n",
    "Text: The movie was fantastic and truly inspiring.\n",
    "Polarity: 0.450  |  Subjectivity: 0.950  |  Label: Positive\n",
    "\n",
    "Text: It was okay, nothing special.\n",
    "Polarity: 0.429  |  Subjectivity: 0.536  |  Label: Positive\n",
    "\n",
    "Text: This is the worst service I have ever experienced.\n",
    "Polarity: -0.100  |  Subjectivity: 0.950  |  Label: Negative\n",
    "```"
   ]
  },
  {
   "cell_type": "code",
   "execution_count": null,
   "id": "d23f1314fcb82f18",
   "metadata": {},
   "outputs": [],
   "source": []
  }
 ],
 "metadata": {
  "kernelspec": {
   "display_name": "Python 3 (ipykernel)",
   "language": "python",
   "name": "python3"
  },
  "language_info": {
   "codemirror_mode": {
    "name": "ipython",
    "version": 3
   },
   "file_extension": ".py",
   "mimetype": "text/x-python",
   "name": "python",
   "nbconvert_exporter": "python",
   "pygments_lexer": "ipython3",
   "version": "3.13.5"
  }
 },
 "nbformat": 4,
 "nbformat_minor": 5
}
