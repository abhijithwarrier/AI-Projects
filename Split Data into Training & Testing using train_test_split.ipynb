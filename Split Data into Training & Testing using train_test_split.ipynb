{
 "cells": [
  {
   "cell_type": "code",
   "execution_count": 1,
   "id": "3983e89a3a41719f",
   "metadata": {
    "ExecuteTime": {
     "end_time": "2025-07-20T15:14:08.584465Z",
     "start_time": "2025-07-20T15:14:04.702265Z"
    }
   },
   "outputs": [],
   "source": [
    "# Import train_test_split from model_selection for splitting your dataset\n",
    "from sklearn.model_selection import train_test_split\n",
    "import pandas as pd"
   ]
  },
  {
   "cell_type": "markdown",
   "id": "878f8a901f885772",
   "metadata": {},
   "source": [
    "### 📊 Sample Dataset\n",
    "We’ll use a small dataset with `Age`, `Salary`, and `Purchased` columns to demonstrate how to split data for training and testing ML models."
   ]
  },
  {
   "cell_type": "code",
   "execution_count": 2,
   "id": "d11b628396888655",
   "metadata": {
    "ExecuteTime": {
     "end_time": "2025-07-20T15:14:11.916137Z",
     "start_time": "2025-07-20T15:14:11.909821Z"
    }
   },
   "outputs": [
    {
     "name": "stdout",
     "output_type": "stream",
     "text": [
      "Original Data:\n",
      "   Age  Salary  Purchased\n",
      "0   22   18000          0\n",
      "1   25   24000          0\n",
      "2   47   52000          1\n",
      "3   52   58000          1\n",
      "4   46   60000          1\n"
     ]
    }
   ],
   "source": [
    "# Creating a simple DataFrame\n",
    "data = {\n",
    "    'Age': [22, 25, 47, 52, 46],\n",
    "    'Salary': [18000, 24000, 52000, 58000, 60000],\n",
    "    'Purchased': [0, 0, 1, 1, 1]\n",
    "}\n",
    "df = pd.DataFrame(data)\n",
    "print(\"Original Data:\")\n",
    "print(df)"
   ]
  },
  {
   "cell_type": "markdown",
   "id": "c5a83bab1e5a0a20",
   "metadata": {},
   "source": [
    "### 🎯 Define Features and Target\n",
    "We separate input features (`Age`, `Salary`) from the target variable (`Purchased`)."
   ]
  },
  {
   "cell_type": "code",
   "execution_count": 3,
   "id": "c69e24142121b560",
   "metadata": {
    "ExecuteTime": {
     "end_time": "2025-07-20T15:14:14.478221Z",
     "start_time": "2025-07-20T15:14:14.473854Z"
    }
   },
   "outputs": [],
   "source": [
    "X = df[['Age', 'Salary']]  # Features\n",
    "y = df['Purchased']  # Target"
   ]
  },
  {
   "cell_type": "markdown",
   "id": "da4c0f5e55ab9735",
   "metadata": {},
   "source": [
    "### ✂️ Split the Dataset\n",
    "We’ll use `train_test_split` to randomly split the dataset into **training** and **testing** sets.\n",
    "80% of the data goes into training and 20% into testing.\n",
    "## 🧪 train_test_split Parameters\n",
    "- `test_size=0.2`: Allocates 20% of the data to the test set.\n",
    "- `random_state=42`: Sets a seed to ensure reproducible splits every time you run the code."
   ]
  },
  {
   "cell_type": "code",
   "execution_count": 4,
   "id": "50154d2bb88acbaa",
   "metadata": {
    "ExecuteTime": {
     "end_time": "2025-07-20T15:14:16.641767Z",
     "start_time": "2025-07-20T15:14:16.637089Z"
    }
   },
   "outputs": [],
   "source": [
    "X_train, X_test, y_train, y_test = train_test_split(\n",
    "    X, y, test_size=0.2, random_state=42\n",
    ")"
   ]
  },
  {
   "cell_type": "markdown",
   "id": "63c1152a07b606e1",
   "metadata": {},
   "source": [
    "### 🔍 View the Results\n",
    "Let’s print the split data to verify how it was divided."
   ]
  },
  {
   "cell_type": "code",
   "execution_count": 5,
   "id": "1dca3963e2f858b0",
   "metadata": {
    "ExecuteTime": {
     "end_time": "2025-07-20T15:14:20.326Z",
     "start_time": "2025-07-20T15:14:20.321336Z"
    }
   },
   "outputs": [
    {
     "name": "stdout",
     "output_type": "stream",
     "text": [
      "X_train:\n",
      "   Age  Salary\n",
      "4   46   60000\n",
      "2   47   52000\n",
      "0   22   18000\n",
      "3   52   58000\n",
      "\n",
      "X_test:\n",
      "   Age  Salary\n",
      "1   25   24000\n",
      "\n",
      "y_train:\n",
      "4    1\n",
      "2    1\n",
      "0    0\n",
      "3    1\n",
      "Name: Purchased, dtype: int64\n",
      "\n",
      "y_test:\n",
      "1    0\n",
      "Name: Purchased, dtype: int64\n"
     ]
    }
   ],
   "source": [
    "print(\"X_train:\")\n",
    "print(X_train)\n",
    "\n",
    "print(\"\\nX_test:\")\n",
    "print(X_test)\n",
    "\n",
    "print(\"\\ny_train:\")\n",
    "print(y_train)\n",
    "\n",
    "print(\"\\ny_test:\")\n",
    "print(y_test)"
   ]
  },
  {
   "cell_type": "code",
   "execution_count": null,
   "id": "7bd55254-97f5-43a2-afd4-54805a5c158f",
   "metadata": {},
   "outputs": [],
   "source": []
  }
 ],
 "metadata": {
  "kernelspec": {
   "display_name": "Python 3 (ipykernel)",
   "language": "python",
   "name": "python3"
  },
  "language_info": {
   "codemirror_mode": {
    "name": "ipython",
    "version": 3
   },
   "file_extension": ".py",
   "mimetype": "text/x-python",
   "name": "python",
   "nbconvert_exporter": "python",
   "pygments_lexer": "ipython3",
   "version": "3.13.5"
  }
 },
 "nbformat": 4,
 "nbformat_minor": 5
}
