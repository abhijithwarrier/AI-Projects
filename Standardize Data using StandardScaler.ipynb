{
 "cells": [
  {
   "cell_type": "code",
   "execution_count": 1,
   "id": "5fd66d68-3f90-4c9b-b983-ad5f6a7959fb",
   "metadata": {},
   "outputs": [],
   "source": [
    "# Import StandardScaler for standardization\n",
    "# Import pandas for handling tabular data\n",
    "from sklearn.preprocessing import StandardScaler\n",
    "import pandas as pd"
   ]
  },
  {
   "cell_type": "markdown",
   "id": "a916598b-b491-4fec-9749-64a0a286ff8c",
   "metadata": {},
   "source": [
    "### 📊 Sample Data\n",
    "Creating a small dataset with numeric features on different scales — Age and Income.\n",
    "This will help demonstrate how StandardScaler brings them to a standard scale."
   ]
  },
  {
   "cell_type": "code",
   "execution_count": 2,
   "id": "4e5c8f88-eb62-41d9-8069-c790a0e6acf5",
   "metadata": {},
   "outputs": [
    {
     "data": {
      "text/html": [
       "<div>\n",
       "<style scoped>\n",
       "    .dataframe tbody tr th:only-of-type {\n",
       "        vertical-align: middle;\n",
       "    }\n",
       "\n",
       "    .dataframe tbody tr th {\n",
       "        vertical-align: top;\n",
       "    }\n",
       "\n",
       "    .dataframe thead th {\n",
       "        text-align: right;\n",
       "    }\n",
       "</style>\n",
       "<table border=\"1\" class=\"dataframe\">\n",
       "  <thead>\n",
       "    <tr style=\"text-align: right;\">\n",
       "      <th></th>\n",
       "      <th>Age</th>\n",
       "      <th>Income</th>\n",
       "    </tr>\n",
       "  </thead>\n",
       "  <tbody>\n",
       "    <tr>\n",
       "      <th>0</th>\n",
       "      <td>22</td>\n",
       "      <td>18000</td>\n",
       "    </tr>\n",
       "    <tr>\n",
       "      <th>1</th>\n",
       "      <td>25</td>\n",
       "      <td>24000</td>\n",
       "    </tr>\n",
       "    <tr>\n",
       "      <th>2</th>\n",
       "      <td>47</td>\n",
       "      <td>52000</td>\n",
       "    </tr>\n",
       "    <tr>\n",
       "      <th>3</th>\n",
       "      <td>52</td>\n",
       "      <td>58000</td>\n",
       "    </tr>\n",
       "    <tr>\n",
       "      <th>4</th>\n",
       "      <td>46</td>\n",
       "      <td>60000</td>\n",
       "    </tr>\n",
       "  </tbody>\n",
       "</table>\n",
       "</div>"
      ],
      "text/plain": [
       "   Age  Income\n",
       "0   22   18000\n",
       "1   25   24000\n",
       "2   47   52000\n",
       "3   52   58000\n",
       "4   46   60000"
      ]
     },
     "execution_count": 2,
     "metadata": {},
     "output_type": "execute_result"
    }
   ],
   "source": [
    "# Create a sample dataset\n",
    "data = {\n",
    "    'Age': [22, 25, 47, 52, 46],        # Small scale feature\n",
    "    'Income': [18000, 24000, 52000, 58000, 60000]  # Large scale feature\n",
    "}\n",
    "\n",
    "# Convert the dictionary into a pandas DataFrame\n",
    "df = pd.DataFrame(data)\n",
    "\n",
    "# Display the original data\n",
    "df"
   ]
  },
  {
   "cell_type": "markdown",
   "id": "941dc863-5037-4cc4-8368-163c41ba8936",
   "metadata": {},
   "source": [
    "### ⚙️ Apply StandardScaler\n",
    "We now use StandardScaler to scale the features so they have:\n",
    "- Mean = 0\n",
    "- Standard deviation = 1\n",
    "\n",
    "This ensures all features contribute equally during training."
   ]
  },
  {
   "cell_type": "code",
   "execution_count": 3,
   "id": "67eb4147-1db7-4051-b192-0463a6b87765",
   "metadata": {},
   "outputs": [],
   "source": [
    "# Initialize the scaler\n",
    "scaler = StandardScaler()\n",
    "\n",
    "# Fit the scaler on the data and transform it\n",
    "# Returns a NumPy array with standardized values\n",
    "standardized = scaler.fit_transform(df)"
   ]
  },
  {
   "cell_type": "code",
   "execution_count": 4,
   "id": "e1e87612-837f-4277-9b58-5af90acaeab1",
   "metadata": {},
   "outputs": [
    {
     "data": {
      "text/html": [
       "<div>\n",
       "<style scoped>\n",
       "    .dataframe tbody tr th:only-of-type {\n",
       "        vertical-align: middle;\n",
       "    }\n",
       "\n",
       "    .dataframe tbody tr th {\n",
       "        vertical-align: top;\n",
       "    }\n",
       "\n",
       "    .dataframe thead th {\n",
       "        text-align: right;\n",
       "    }\n",
       "</style>\n",
       "<table border=\"1\" class=\"dataframe\">\n",
       "  <thead>\n",
       "    <tr style=\"text-align: right;\">\n",
       "      <th></th>\n",
       "      <th>Age</th>\n",
       "      <th>Income</th>\n",
       "    </tr>\n",
       "  </thead>\n",
       "  <tbody>\n",
       "    <tr>\n",
       "      <th>0</th>\n",
       "      <td>-1.325688</td>\n",
       "      <td>-1.372955</td>\n",
       "    </tr>\n",
       "    <tr>\n",
       "      <th>1</th>\n",
       "      <td>-1.083184</td>\n",
       "      <td>-1.035343</td>\n",
       "    </tr>\n",
       "    <tr>\n",
       "      <th>2</th>\n",
       "      <td>0.695178</td>\n",
       "      <td>0.540179</td>\n",
       "    </tr>\n",
       "    <tr>\n",
       "      <th>3</th>\n",
       "      <td>1.099351</td>\n",
       "      <td>0.877791</td>\n",
       "    </tr>\n",
       "    <tr>\n",
       "      <th>4</th>\n",
       "      <td>0.614343</td>\n",
       "      <td>0.990328</td>\n",
       "    </tr>\n",
       "  </tbody>\n",
       "</table>\n",
       "</div>"
      ],
      "text/plain": [
       "        Age    Income\n",
       "0 -1.325688 -1.372955\n",
       "1 -1.083184 -1.035343\n",
       "2  0.695178  0.540179\n",
       "3  1.099351  0.877791\n",
       "4  0.614343  0.990328"
      ]
     },
     "execution_count": 4,
     "metadata": {},
     "output_type": "execute_result"
    }
   ],
   "source": [
    "# Convert the standardized array back into a DataFrame\n",
    "# Use original column names for readability\n",
    "standardized_df = pd.DataFrame(standardized, columns=df.columns)\n",
    "\n",
    "# Display the standardized data\n",
    "standardized_df"
   ]
  },
  {
   "cell_type": "code",
   "execution_count": 5,
   "id": "81e12345-329e-40a9-8029-c966604d6388",
   "metadata": {},
   "outputs": [
    {
     "name": "stdout",
     "output_type": "stream",
     "text": [
      "Original Data:\n",
      "   Age  Income\n",
      "0   22   18000\n",
      "1   25   24000\n",
      "2   47   52000\n",
      "3   52   58000\n",
      "4   46   60000\n",
      "\n",
      "Standardized Data:\n",
      "        Age    Income\n",
      "0 -1.325688 -1.372955\n",
      "1 -1.083184 -1.035343\n",
      "2  0.695178  0.540179\n",
      "3  1.099351  0.877791\n",
      "4  0.614343  0.990328\n"
     ]
    }
   ],
   "source": [
    "# Compare the original and standardized values\n",
    "print(\"Original Data:\")\n",
    "print(df)\n",
    "\n",
    "print(\"\\nStandardized Data:\")\n",
    "print(standardized_df)"
   ]
  }
 ],
 "metadata": {
  "kernelspec": {
   "display_name": "Python 3 (ipykernel)",
   "language": "python",
   "name": "python3"
  },
  "language_info": {
   "codemirror_mode": {
    "name": "ipython",
    "version": 3
   },
   "file_extension": ".py",
   "mimetype": "text/x-python",
   "name": "python",
   "nbconvert_exporter": "python",
   "pygments_lexer": "ipython3",
   "version": "3.13.5"
  }
 },
 "nbformat": 4,
 "nbformat_minor": 5
}
