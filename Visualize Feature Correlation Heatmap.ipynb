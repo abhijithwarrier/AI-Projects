{
 "cells": [
  {
   "cell_type": "markdown",
   "id": "b258fdcaa7eb8a34",
   "metadata": {},
   "source": [
    "**Programmer:** python_scripts (Abhijith Warrier)\n",
    "\n",
    "**PYTHON SCRIPT TO DEMONSTRATE HOW TO *COMPUTE & VISUALIZE FEATURE CORRELATIONS* USING A HEATMAP. 🐍📊🤖**\n",
    "\n",
    "By using the `.corr()` method from pandas and Seaborn’s heatmap, you can spot **strong relationships** or **redundant features** in your dataset.\n",
    "\n",
    "This is useful for feature selection, multicollinearity detection, and building more efficient ML models."
   ]
  },
  {
   "cell_type": "code",
   "execution_count": 1,
   "id": "8dc476888aa2a191",
   "metadata": {
    "ExecuteTime": {
     "end_time": "2025-07-20T16:34:21.830625Z",
     "start_time": "2025-07-20T16:34:21.828951Z"
    }
   },
   "outputs": [],
   "source": [
    "# Import necessary libraries\n",
    "import pandas as pd\n",
    "import seaborn as sns\n",
    "import matplotlib.pyplot as plt"
   ]
  },
  {
   "cell_type": "markdown",
   "id": "68984fab8a2e8226",
   "metadata": {},
   "source": [
    "### 🧪 Sample Dataset\n",
    "Let’s create a simple dataset with numerical features."
   ]
  },
  {
   "cell_type": "code",
   "execution_count": 2,
   "id": "22c23d2d91fd70",
   "metadata": {
    "ExecuteTime": {
     "end_time": "2025-07-20T16:34:25.812131Z",
     "start_time": "2025-07-20T16:34:25.798096Z"
    }
   },
   "outputs": [
    {
     "data": {
      "text/html": [
       "<div>\n",
       "<style scoped>\n",
       "    .dataframe tbody tr th:only-of-type {\n",
       "        vertical-align: middle;\n",
       "    }\n",
       "\n",
       "    .dataframe tbody tr th {\n",
       "        vertical-align: top;\n",
       "    }\n",
       "\n",
       "    .dataframe thead th {\n",
       "        text-align: right;\n",
       "    }\n",
       "</style>\n",
       "<table border=\"1\" class=\"dataframe\">\n",
       "  <thead>\n",
       "    <tr style=\"text-align: right;\">\n",
       "      <th></th>\n",
       "      <th>Age</th>\n",
       "      <th>Salary</th>\n",
       "      <th>Purchases</th>\n",
       "      <th>Score</th>\n",
       "    </tr>\n",
       "  </thead>\n",
       "  <tbody>\n",
       "    <tr>\n",
       "      <th>0</th>\n",
       "      <td>25</td>\n",
       "      <td>50000</td>\n",
       "      <td>1</td>\n",
       "      <td>80</td>\n",
       "    </tr>\n",
       "    <tr>\n",
       "      <th>1</th>\n",
       "      <td>32</td>\n",
       "      <td>60000</td>\n",
       "      <td>2</td>\n",
       "      <td>85</td>\n",
       "    </tr>\n",
       "    <tr>\n",
       "      <th>2</th>\n",
       "      <td>47</td>\n",
       "      <td>80000</td>\n",
       "      <td>3</td>\n",
       "      <td>78</td>\n",
       "    </tr>\n",
       "    <tr>\n",
       "      <th>3</th>\n",
       "      <td>51</td>\n",
       "      <td>82000</td>\n",
       "      <td>3</td>\n",
       "      <td>88</td>\n",
       "    </tr>\n",
       "    <tr>\n",
       "      <th>4</th>\n",
       "      <td>62</td>\n",
       "      <td>90000</td>\n",
       "      <td>5</td>\n",
       "      <td>90</td>\n",
       "    </tr>\n",
       "  </tbody>\n",
       "</table>\n",
       "</div>"
      ],
      "text/plain": [
       "   Age  Salary  Purchases  Score\n",
       "0   25   50000          1     80\n",
       "1   32   60000          2     85\n",
       "2   47   80000          3     78\n",
       "3   51   82000          3     88\n",
       "4   62   90000          5     90"
      ]
     },
     "execution_count": 2,
     "metadata": {},
     "output_type": "execute_result"
    }
   ],
   "source": [
    "# Create a sample dataset\n",
    "data = {\n",
    "    'Age': [25, 32, 47, 51, 62],\n",
    "    'Salary': [50000, 60000, 80000, 82000, 90000],\n",
    "    'Purchases': [1, 2, 3, 3, 5],\n",
    "    'Score': [80, 85, 78, 88, 90]\n",
    "}\n",
    "df = pd.DataFrame(data)\n",
    "\n",
    "# Display the DataFrame\n",
    "df"
   ]
  },
  {
   "cell_type": "markdown",
   "id": "dd6d42017bd6d769",
   "metadata": {},
   "source": [
    "### 📈 Compute Correlation Matrix\n",
    "We’ll use `pandas.corr()` to compute the pairwise correlation between numerical features."
   ]
  },
  {
   "cell_type": "code",
   "execution_count": 3,
   "id": "90b32c70ac596457",
   "metadata": {
    "ExecuteTime": {
     "end_time": "2025-07-20T16:34:28.752424Z",
     "start_time": "2025-07-20T16:34:28.744533Z"
    }
   },
   "outputs": [
    {
     "data": {
      "text/html": [
       "<div>\n",
       "<style scoped>\n",
       "    .dataframe tbody tr th:only-of-type {\n",
       "        vertical-align: middle;\n",
       "    }\n",
       "\n",
       "    .dataframe tbody tr th {\n",
       "        vertical-align: top;\n",
       "    }\n",
       "\n",
       "    .dataframe thead th {\n",
       "        text-align: right;\n",
       "    }\n",
       "</style>\n",
       "<table border=\"1\" class=\"dataframe\">\n",
       "  <thead>\n",
       "    <tr style=\"text-align: right;\">\n",
       "      <th></th>\n",
       "      <th>Age</th>\n",
       "      <th>Salary</th>\n",
       "      <th>Purchases</th>\n",
       "      <th>Score</th>\n",
       "    </tr>\n",
       "  </thead>\n",
       "  <tbody>\n",
       "    <tr>\n",
       "      <th>Age</th>\n",
       "      <td>1.000000</td>\n",
       "      <td>0.987553</td>\n",
       "      <td>0.967600</td>\n",
       "      <td>0.599514</td>\n",
       "    </tr>\n",
       "    <tr>\n",
       "      <th>Salary</th>\n",
       "      <td>0.987553</td>\n",
       "      <td>1.000000</td>\n",
       "      <td>0.932726</td>\n",
       "      <td>0.513650</td>\n",
       "    </tr>\n",
       "    <tr>\n",
       "      <th>Purchases</th>\n",
       "      <td>0.967600</td>\n",
       "      <td>0.932726</td>\n",
       "      <td>1.000000</td>\n",
       "      <td>0.632236</td>\n",
       "    </tr>\n",
       "    <tr>\n",
       "      <th>Score</th>\n",
       "      <td>0.599514</td>\n",
       "      <td>0.513650</td>\n",
       "      <td>0.632236</td>\n",
       "      <td>1.000000</td>\n",
       "    </tr>\n",
       "  </tbody>\n",
       "</table>\n",
       "</div>"
      ],
      "text/plain": [
       "                Age    Salary  Purchases     Score\n",
       "Age        1.000000  0.987553   0.967600  0.599514\n",
       "Salary     0.987553  1.000000   0.932726  0.513650\n",
       "Purchases  0.967600  0.932726   1.000000  0.632236\n",
       "Score      0.599514  0.513650   0.632236  1.000000"
      ]
     },
     "execution_count": 3,
     "metadata": {},
     "output_type": "execute_result"
    }
   ],
   "source": [
    "# Compute correlation matrix\n",
    "correlation_matrix = df.corr(numeric_only=True)\n",
    "\n",
    "# Display the matrix\n",
    "correlation_matrix"
   ]
  },
  {
   "cell_type": "markdown",
   "id": "942203f1049922a4",
   "metadata": {},
   "source": [
    "### 🔥 Visualize with Heatmap\n",
    "Use Seaborn's heatmap to display the correlation matrix clearly and visually."
   ]
  },
  {
   "cell_type": "code",
   "execution_count": 4,
   "id": "24a53b0ff1fec626",
   "metadata": {
    "ExecuteTime": {
     "end_time": "2025-07-20T16:34:33.208050Z",
     "start_time": "2025-07-20T16:34:33.079122Z"
    }
   },
   "outputs": [
    {
     "data": {
      "image/png": "[encoded data removed]",
      "text/plain": [
       "<Figure size 800x600 with 2 Axes>"
      ]
     },
     "metadata": {},
     "output_type": "display_data"
    }
   ],
   "source": [
    "# Plot the heatmap\n",
    "plt.figure(figsize=(8, 6))\n",
    "sns.heatmap(correlation_matrix, annot=True, cmap='coolwarm', fmt=\".2f\")\n",
    "plt.title(\"Feature Correlation Heatmap\")\n",
    "plt.show()"
   ]
  },
  {
   "cell_type": "markdown",
   "id": "41d1b738697cd411",
   "metadata": {},
   "source": [
    ">💡 **Note**:<BR>\n",
    "> Correlation values range from **-1 to 1**:\n",
    "> - `+1` = perfect positive correlation\n",
    "> - `-1` = perfect negative correlation\n",
    "> - `0` = no linear correlation<BR><BR>\n",
    "> ✅Use this to spot multicollinearity and optimize your ML features."
   ]
  },
  {
   "cell_type": "code",
   "execution_count": null,
   "id": "13136738-7b9f-48dc-95db-0bc57ed63850",
   "metadata": {},
   "outputs": [],
   "source": []
  }
 ],
 "metadata": {
  "kernelspec": {
   "display_name": "Python 3 (ipykernel)",
   "language": "python",
   "name": "python3"
  },
  "language_info": {
   "codemirror_mode": {
    "name": "ipython",
    "version": 3
   },
   "file_extension": ".py",
   "mimetype": "text/x-python",
   "name": "python",
   "nbconvert_exporter": "python",
   "pygments_lexer": "ipython3",
   "version": "3.13.5"
  }
 },
 "nbformat": 4,
 "nbformat_minor": 5
}
